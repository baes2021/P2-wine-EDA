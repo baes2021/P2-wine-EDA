{
 "cells": [
  {
   "cell_type": "code",
   "execution_count": 15,
   "metadata": {},
   "outputs": [
    {
     "name": "stdout",
     "output_type": "stream",
     "text": [
      "[2 3] [0 1]\n",
      "[0 1] [2 3]\n"
     ]
    }
   ],
   "source": [
    "from sklearn.model_selection import KFold, StratifiedKFold\n",
    "kf=KFold(n_splits=2)\n",
    "x=['a','b','c','d']\n",
    "for train, test in kf.split(x):\n",
    "    print(\"%s %s\" %(train, test))"
   ]
  },
  {
   "cell_type": "code",
   "execution_count": 16,
   "metadata": {},
   "outputs": [
    {
     "name": "stdout",
     "output_type": "stream",
     "text": [
      "[1 2 3] [0]\n",
      "[0 2 3] [1]\n",
      "[0 1 3] [2]\n",
      "[0 1 2] [3]\n"
     ]
    }
   ],
   "source": [
    "kf=KFold(n_splits=4)\n",
    "for train, test in kf.split(x):\n",
    "    print(\"%s %s\" %(train, test))"
   ]
  },
  {
   "cell_type": "code",
   "execution_count": 21,
   "metadata": {},
   "outputs": [
    {
     "name": "stdout",
     "output_type": "stream",
     "text": [
      "[2 3 6 7 8 9] [0 1 4 5]\n",
      "[0 1 3 4 5 8 9] [2 6 7]\n",
      "[0 1 2 4 5 6 7] [3 8 9]\n"
     ]
    }
   ],
   "source": [
    "import numpy as np\n",
    "x=np.ones(10)\n",
    "y=[0,0,0,0,1,1,1,1,1,1]\n",
    "skf=StratifiedKFold(n_splits=3)\n",
    "\n",
    "for train, test in skf.split(x,y):\n",
    "    print(\"%s %s\" %(train, test))"
   ]
  },
  {
   "cell_type": "code",
   "execution_count": 28,
   "metadata": {},
   "outputs": [
    {
     "name": "stdout",
     "output_type": "stream",
     "text": [
      "[0 1] [2]\n",
      "[0 1 2] [3]\n",
      "[0 1 2 3] [4]\n"
     ]
    }
   ],
   "source": [
    "# for time series you shpuld use TimeSeriesSplit\n",
    "from sklearn.model_selection import TimeSeriesSplit\n",
    "x=np.array([[1,3,4],[7,6,5],[8,9,7],[8,9,4],[9,4,1]])\n",
    "times=TimeSeriesSplit(n_splits=3)\n",
    "for train, test in times.split(x):\n",
    "    print(\"%s %s\" %(train, test))\n",
    "# it never uses the future data as the test "
   ]
  }
 ],
 "metadata": {
  "kernelspec": {
   "display_name": "Python 3",
   "language": "python",
   "name": "python3"
  },
  "language_info": {
   "codemirror_mode": {
    "name": "ipython",
    "version": 3
   },
   "file_extension": ".py",
   "mimetype": "text/x-python",
   "name": "python",
   "nbconvert_exporter": "python",
   "pygments_lexer": "ipython3",
   "version": "3.9.13"
  },
  "orig_nbformat": 4,
  "vscode": {
   "interpreter": {
    "hash": "2918784d2acf282f2c1eeb3293c1f68c9e526abdf8983671e7e8ea84935e28a6"
   }
  }
 },
 "nbformat": 4,
 "nbformat_minor": 2
}
