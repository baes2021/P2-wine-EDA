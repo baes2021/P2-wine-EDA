{
 "cells": [
  {
   "cell_type": "code",
   "execution_count": 1,
   "metadata": {},
   "outputs": [
    {
     "name": "stdout",
     "output_type": "stream",
     "text": [
      "0   1980-01-01\n",
      "1   1980-02-02\n",
      "2   1980-03-02\n",
      "3   1980-01-21\n",
      "4   1981-01-21\n",
      "5   1991-02-21\n",
      "6   1991-03-23\n",
      "Name: A, dtype: datetime64[ns]\n"
     ]
    }
   ],
   "source": [
    "import time\n",
    "import pandas as pd\n",
    "import numpy as np\n",
    "df = pd.DataFrame({\n",
    "        'A':\n",
    "            ['1980-01-01', '1980-02-02', '1980-03-02', '1980-01-21',\n",
    "             '1981-01-21', '1991-02-21', '1991-03-23'] })\n",
    "df['A'] = pd.to_datetime(df['A']).astype('int64') # convert to int\n",
    "print(pd.to_datetime(df['A']).astype('datetime64[ns]')) # convert to date\n",
    "min_a = df.A.min()\n",
    "max_a = df.A.max()\n",
    "min_norm = -1\n",
    "max_norm =1\n",
    "df['NORMA'] = (df.A- min_a) *(max_norm - min_norm) / (max_a-min_a) + min_norm"
   ]
  }
 ],
 "metadata": {
  "kernelspec": {
   "display_name": "Python 3",
   "language": "python",
   "name": "python3"
  },
  "language_info": {
   "codemirror_mode": {
    "name": "ipython",
    "version": 3
   },
   "file_extension": ".py",
   "mimetype": "text/x-python",
   "name": "python",
   "nbconvert_exporter": "python",
   "pygments_lexer": "ipython3",
   "version": "3.9.13"
  },
  "orig_nbformat": 4,
  "vscode": {
   "interpreter": {
    "hash": "2918784d2acf282f2c1eeb3293c1f68c9e526abdf8983671e7e8ea84935e28a6"
   }
  }
 },
 "nbformat": 4,
 "nbformat_minor": 2
}
