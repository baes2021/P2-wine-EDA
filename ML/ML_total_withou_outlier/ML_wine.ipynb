{
 "cells": [
  {
   "cell_type": "code",
   "execution_count": 201,
   "metadata": {},
   "outputs": [],
   "source": [
    "#This is a program to predit quality of wines (white+red wines). Here, I did use z score method to remove outliers\n",
    "import pandas as pd\n",
    "import numpy as np\n",
    "white_wine=pd.read_csv('../../practice/winequality-white.csv', sep=';')\n",
    "red_wine=pd.read_csv('../../practice/winequality-red.csv', sep=';')"
   ]
  },
  {
   "cell_type": "code",
   "execution_count": 202,
   "metadata": {},
   "outputs": [],
   "source": [
    "# replace space with underline\n",
    "white_wine.columns=white_wine.columns.str.replace(' ','_')\n",
    "red_wine.columns=red_wine.columns.str.replace(' ','_')\n",
    "#add a new column\n",
    "red_wine['wine_type']='r'\n",
    "white_wine['wine_type']='w'"
   ]
  },
  {
   "cell_type": "code",
   "execution_count": 203,
   "metadata": {},
   "outputs": [],
   "source": [
    "#add a new column\n",
    "red_wine['quality_label']=red_wine['quality'].apply(lambda x: 'low' if x <= 5 else 'medium' if x <= 7 else 'high')\n",
    "red_wine['quality_label']=pd.Categorical(red_wine['quality_label'], categories=['low','high','medium'])\n",
    "white_wine['quality_label']=white_wine['quality'].apply(lambda x: 'low' if x <= 5 else 'medium' if x <= 7 else 'high')\n",
    "white_wine['quality_label']=pd.Categorical(white_wine['quality_label'], categories=['low','high','medium'])"
   ]
  },
  {
   "cell_type": "code",
   "execution_count": 204,
   "metadata": {},
   "outputs": [],
   "source": [
    "#merge two files\n",
    "total_wine=pd.concat([white_wine, red_wine])\n",
    "total_wine= total_wine.set_index(np.arange(len(total_wine)))"
   ]
  },
  {
   "cell_type": "code",
   "execution_count": 205,
   "metadata": {},
   "outputs": [],
   "source": [
    "# sI use z score method to remove outliers\n",
    "def outliers_idr(df):\n",
    "    \n",
    "    num=df.count(axis=1)\n",
    "    num_col=num[1]\n",
    "    \n",
    "    i=0\n",
    "    for colu in total_wine.loc[:,'fixed_acidity':'quality']:\n",
    "        mean_df=df[colu].mean()\n",
    "        std_df=df[colu].std()\n",
    "        df_out= df[(df[colu] <= 3*std_df+mean_df) & (df[colu] >= (mean_df-3*std_df))]\n",
    "        df=df_out\n",
    "        i=i+1\n",
    "        \n",
    "    return df_out\n",
    "\n",
    "total_wine=outliers_idr(total_wine)\n",
    "total_wine= total_wine.set_index(np.arange(len(total_wine)))\n",
    "\n"
   ]
  },
  {
   "cell_type": "code",
   "execution_count": 206,
   "metadata": {},
   "outputs": [
    {
     "name": "stdout",
     "output_type": "stream",
     "text": [
      "['medium' 'low' 'high']\n"
     ]
    }
   ],
   "source": [
    "#encoding\n",
    "from sklearn.preprocessing import OneHotEncoder, LabelEncoder\n",
    "#le0=OneHotEncoder(sparse=False)\n",
    "#total_wine['wine_type']=le0.fit_transform(total_wine[['wine_type']])\n",
    "#le0.inverse_transform(total_wine['wine_type'].unique()) ####?\n",
    "total_wine['wine_type']=total_wine['wine_type'].apply(lambda x: 0 if 'w' else 1)\n",
    "\n",
    "le1=LabelEncoder()\n",
    "total_wine['quality_label']=le1.fit_transform(total_wine['quality_label'])\n",
    "print(le1.inverse_transform(total_wine['quality_label'].unique())) ###???"
   ]
  },
  {
   "cell_type": "code",
   "execution_count": 207,
   "metadata": {},
   "outputs": [
    {
     "name": "stdout",
     "output_type": "stream",
     "text": [
      "1386    2\n",
      "5486    1\n",
      "2724    2\n",
      "1831    2\n",
      "737     2\n",
      "       ..\n",
      "1475    2\n",
      "831     2\n",
      "1273    1\n",
      "3718    2\n",
      "3229    2\n",
      "Name: quality_label, Length: 1776, dtype: int64 [2 1 2 ... 1 2 2]\n",
      "accuracy is:  1.0\n",
      "Confusion matrix:\n",
      "[[  49    0    0]\n",
      " [   0  680    0]\n",
      " [   0    0 1047]]\n",
      "              precision    recall  f1-score   support\n",
      "\n",
      "           0       1.00      1.00      1.00        49\n",
      "           1       1.00      1.00      1.00       680\n",
      "           2       1.00      1.00      1.00      1047\n",
      "\n",
      "    accuracy                           1.00      1776\n",
      "   macro avg       1.00      1.00      1.00      1776\n",
      "weighted avg       1.00      1.00      1.00      1776\n",
      "\n",
      "cohen_kappa is:  1.0\n"
     ]
    }
   ],
   "source": [
    "# ML for quality of wine Decision tree\n",
    "from sklearn.tree import DecisionTreeClassifier\n",
    "from sklearn.preprocessing import MinMaxScaler\n",
    "from sklearn.model_selection import train_test_split\n",
    "from sklearn.metrics import accuracy_score\n",
    "from sklearn.metrics import confusion_matrix\n",
    "from sklearn.metrics import classification_report\n",
    "from sklearn.metrics import cohen_kappa_score\n",
    "\n",
    "\n",
    "model=DecisionTreeClassifier()\n",
    "x=total_wine.drop(columns='quality_label')\n",
    "y=total_wine['quality_label']\n",
    "scale=MinMaxScaler()\n",
    "x_train,x_test,y_train,y_test=train_test_split(x,y, test_size=0.3, random_state=0)\n",
    "x_train_n=scale.fit_transform(x_train)\n",
    "x_train_n=pd.DataFrame(x_train_n, columns=x_train.columns)\n",
    "x_test_n=scale.fit_transform(x_test)\n",
    "x_test_n=pd.DataFrame(x_test_n, columns=x_test.columns)\n",
    "model.fit(x_train_n,y_train)\n",
    "predict=model.predict(x_test_n)\n",
    "print(y_test, predict)\n",
    "score=accuracy_score(y_test, predict)\n",
    "print('accuracy is: ', score)\n",
    "print(\"Confusion matrix:\")\n",
    "print(confusion_matrix(y_test, predict))\n",
    "print(classification_report(y_test,predict))\n",
    "cohen=cohen_kappa_score(y_test, predict)\n",
    "print('cohen_kappa is: ', cohen)"
   ]
  },
  {
   "cell_type": "code",
   "execution_count": 208,
   "metadata": {},
   "outputs": [
    {
     "name": "stdout",
     "output_type": "stream",
     "text": [
      "1386    2\n",
      "5486    1\n",
      "2724    2\n",
      "1831    2\n",
      "737     2\n",
      "       ..\n",
      "1475    2\n",
      "831     2\n",
      "1273    1\n",
      "3718    2\n",
      "3229    2\n",
      "Name: quality_label, Length: 1776, dtype: int64 [2 1 2 ... 1 2 2]\n",
      "accuracy is:  0.9994369369369369\n",
      "Confusion matrix:\n",
      "[[  48    0    1]\n",
      " [   0  680    0]\n",
      " [   0    0 1047]]\n",
      "              precision    recall  f1-score   support\n",
      "\n",
      "           0       1.00      0.98      0.99        49\n",
      "           1       1.00      1.00      1.00       680\n",
      "           2       1.00      1.00      1.00      1047\n",
      "\n",
      "    accuracy                           1.00      1776\n",
      "   macro avg       1.00      0.99      1.00      1776\n",
      "weighted avg       1.00      1.00      1.00      1776\n",
      "\n",
      "cohen_kappa is:  0.9988845398224308\n"
     ]
    }
   ],
   "source": [
    "# ML for quality of wine  RandomForestClassifier\n",
    "from sklearn.ensemble import RandomForestClassifier\n",
    "from sklearn.preprocessing import MinMaxScaler\n",
    "from sklearn.model_selection import train_test_split\n",
    "from sklearn.metrics import accuracy_score\n",
    "from sklearn.metrics import confusion_matrix\n",
    "from sklearn.metrics import classification_report\n",
    "\n",
    "\n",
    "model= RandomForestClassifier()\n",
    "x=total_wine.drop(columns='quality_label')\n",
    "y=total_wine['quality_label']\n",
    "scale=MinMaxScaler()\n",
    "x_train,x_test,y_train,y_test=train_test_split(x,y, test_size=0.3, random_state=0)\n",
    "x_train_n=scale.fit_transform(x_train)\n",
    "x_train_n=pd.DataFrame(x_train_n, columns=x_train.columns)\n",
    "x_test_n=scale.fit_transform(x_test)\n",
    "x_test_n=pd.DataFrame(x_test_n, columns=x_test.columns)\n",
    "model.fit(x_train_n,y_train)\n",
    "predict=model.predict(x_test_n)\n",
    "print(y_test, predict)\n",
    "score=accuracy_score(y_test, predict)\n",
    "print('accuracy is: ', score)\n",
    "print(\"Confusion matrix:\")\n",
    "print(confusion_matrix(y_test, predict))\n",
    "print(classification_report(y_test,predict))\n",
    "cohen=cohen_kappa_score(y_test, predict)\n",
    "print('cohen_kappa is: ', cohen)"
   ]
  },
  {
   "cell_type": "code",
   "execution_count": 209,
   "metadata": {},
   "outputs": [
    {
     "name": "stdout",
     "output_type": "stream",
     "text": [
      "<class 'pandas.core.frame.DataFrame'>\n",
      "Int64Index: 5919 entries, 0 to 5918\n",
      "Data columns (total 14 columns):\n",
      " #   Column                Non-Null Count  Dtype  \n",
      "---  ------                --------------  -----  \n",
      " 0   fixed_acidity         5919 non-null   float64\n",
      " 1   volatile_acidity      5919 non-null   float64\n",
      " 2   citric_acid           5919 non-null   float64\n",
      " 3   residual_sugar        5919 non-null   float64\n",
      " 4   chlorides             5919 non-null   float64\n",
      " 5   free_sulfur_dioxide   5919 non-null   float64\n",
      " 6   total_sulfur_dioxide  5919 non-null   float64\n",
      " 7   density               5919 non-null   float64\n",
      " 8   pH                    5919 non-null   float64\n",
      " 9   sulphates             5919 non-null   float64\n",
      " 10  alcohol               5919 non-null   float64\n",
      " 11  quality               5919 non-null   int64  \n",
      " 12  wine_type             5919 non-null   int64  \n",
      " 13  quality_label         5919 non-null   int64  \n",
      "dtypes: float64(11), int64(3)\n",
      "memory usage: 693.6 KB\n"
     ]
    }
   ],
   "source": [
    "total_wine.info()"
   ]
  },
  {
   "cell_type": "code",
   "execution_count": 210,
   "metadata": {},
   "outputs": [
    {
     "name": "stdout",
     "output_type": "stream",
     "text": [
      "1386    2\n",
      "5486    1\n",
      "2724    2\n",
      "1831    2\n",
      "737     2\n",
      "       ..\n",
      "1475    2\n",
      "831     2\n",
      "1273    1\n",
      "3718    2\n",
      "3229    2\n",
      "Name: quality_label, Length: 1776, dtype: int64 [2 1 2 ... 1 2 2]\n",
      "accuracy is:  1.0\n",
      "Confusion matrix:\n",
      "[[  49    0    0]\n",
      " [   0  680    0]\n",
      " [   0    0 1047]]\n",
      "              precision    recall  f1-score   support\n",
      "\n",
      "           0       1.00      1.00      1.00        49\n",
      "           1       1.00      1.00      1.00       680\n",
      "           2       1.00      1.00      1.00      1047\n",
      "\n",
      "    accuracy                           1.00      1776\n",
      "   macro avg       1.00      1.00      1.00      1776\n",
      "weighted avg       1.00      1.00      1.00      1776\n",
      "\n",
      "cohen_kappa is:  1.0\n"
     ]
    }
   ],
   "source": [
    "# ML for quality of wine  LinearDiscriminantAnalysis\n",
    "\n",
    "from sklearn.discriminant_analysis import LinearDiscriminantAnalysis\n",
    "from sklearn.preprocessing import MinMaxScaler\n",
    "from sklearn.model_selection import train_test_split\n",
    "from sklearn.metrics import accuracy_score\n",
    "from sklearn.metrics import confusion_matrix\n",
    "from sklearn.metrics import classification_report\n",
    "\n",
    "\n",
    "model= LinearDiscriminantAnalysis()\n",
    "x=total_wine.drop(columns='quality_label')\n",
    "y=total_wine['quality_label']\n",
    "scale=MinMaxScaler()\n",
    "x_train,x_test,y_train,y_test=train_test_split(x,y, test_size=0.3, random_state=0)\n",
    "x_train_n=scale.fit_transform(x_train)\n",
    "x_train_n=pd.DataFrame(x_train_n, columns=x_train.columns)\n",
    "x_test_n=scale.fit_transform(x_test)\n",
    "x_test_n=pd.DataFrame(x_test_n, columns=x_test.columns)\n",
    "model.fit(x_train_n,y_train)\n",
    "predict=model.predict(x_test_n)\n",
    "print(y_test, predict)\n",
    "score=accuracy_score(y_test, predict)\n",
    "print('accuracy is: ', score)\n",
    "print(\"Confusion matrix:\")\n",
    "print(confusion_matrix(y_test, predict))\n",
    "print(classification_report(y_test,predict))\n",
    "cohen=cohen_kappa_score(y_test, predict)\n",
    "print('cohen_kappa is: ', cohen)"
   ]
  }
 ],
 "metadata": {
  "kernelspec": {
   "display_name": "Python 3",
   "language": "python",
   "name": "python3"
  },
  "language_info": {
   "codemirror_mode": {
    "name": "ipython",
    "version": 3
   },
   "file_extension": ".py",
   "mimetype": "text/x-python",
   "name": "python",
   "nbconvert_exporter": "python",
   "pygments_lexer": "ipython3",
   "version": "3.9.13"
  },
  "orig_nbformat": 4,
  "vscode": {
   "interpreter": {
    "hash": "2918784d2acf282f2c1eeb3293c1f68c9e526abdf8983671e7e8ea84935e28a6"
   }
  }
 },
 "nbformat": 4,
 "nbformat_minor": 2
}
