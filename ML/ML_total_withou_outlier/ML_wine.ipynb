{
 "cells": [
  {
   "cell_type": "code",
   "execution_count": 191,
   "metadata": {},
   "outputs": [],
   "source": [
    "#This is a program to predit quality of wines (white+red wines). Here, I did use z score method to remove outliers\n",
    "import pandas as pd\n",
    "import numpy as np\n",
    "white_wine=pd.read_csv('../../practice/winequality-white.csv', sep=';')\n",
    "red_wine=pd.read_csv('../../practice/winequality-red.csv', sep=';')"
   ]
  },
  {
   "cell_type": "code",
   "execution_count": 192,
   "metadata": {},
   "outputs": [],
   "source": [
    "# replace space with underline\n",
    "white_wine.columns=white_wine.columns.str.replace(' ','_')\n",
    "red_wine.columns=red_wine.columns.str.replace(' ','_')\n",
    "#add a new column\n",
    "red_wine['wine_type']='r'\n",
    "white_wine['wine_type']='w'"
   ]
  },
  {
   "cell_type": "code",
   "execution_count": 193,
   "metadata": {},
   "outputs": [],
   "source": [
    "#add a new column\n",
    "red_wine['quality_label']=red_wine['quality'].apply(lambda x: 'low' if x <= 5 else 'medium' if x <= 7 else 'high')\n",
    "red_wine['quality_label']=pd.Categorical(red_wine['quality_label'], categories=['low','high','medium'])\n",
    "white_wine['quality_label']=white_wine['quality'].apply(lambda x: 'low' if x <= 5 else 'medium' if x <= 7 else 'high')\n",
    "white_wine['quality_label']=pd.Categorical(white_wine['quality_label'], categories=['low','high','medium'])"
   ]
  },
  {
   "cell_type": "code",
   "execution_count": 194,
   "metadata": {},
   "outputs": [],
   "source": [
    "#merge two files\n",
    "total_wine=pd.concat([white_wine, red_wine])\n",
    "total_wine= total_wine.set_index(np.arange(len(total_wine)))"
   ]
  },
  {
   "cell_type": "code",
   "execution_count": 195,
   "metadata": {},
   "outputs": [],
   "source": [
    "# sI use z score method to remove outliers\n",
    "def outliers_remov(df):\n",
    "    for colu in total_wine.loc[:,'fixed_acidity':'quality']:\n",
    "        mean_df=df[colu].mean()\n",
    "        std_df=df[colu].std()\n",
    "        df_out= df[(df[colu] <= 3*std_df+mean_df) & (df[colu] >= (mean_df-3*std_df))]\n",
    "        df=df_out       \n",
    "    return df_out\n",
    "\n",
    "\n",
    "total_wine=outliers_remov(total_wine)\n",
    "total_wine= total_wine.set_index(np.arange(len(total_wine)))\n",
    "\n"
   ]
  },
  {
   "cell_type": "code",
   "execution_count": 196,
   "metadata": {},
   "outputs": [
    {
     "name": "stdout",
     "output_type": "stream",
     "text": [
      "['medium' 'low' 'high']\n"
     ]
    }
   ],
   "source": [
    "#encoding\n",
    "from sklearn.preprocessing import OneHotEncoder, LabelEncoder\n",
    "#le0=OneHotEncoder(sparse=False)\n",
    "#total_wine['wine_type']=le0.fit_transform(total_wine[['wine_type']])\n",
    "#le0.inverse_transform(total_wine['wine_type'].unique()) ####?\n",
    "total_wine['wine_type']=total_wine['wine_type'].apply(lambda x: 0 if x=='w' else 1)\n",
    "\n",
    "le1=LabelEncoder()\n",
    "total_wine['quality_label']=le1.fit_transform(total_wine['quality_label'])\n",
    "print(le1.inverse_transform(total_wine['quality_label'].unique())) ###???"
   ]
  },
  {
   "cell_type": "code",
   "execution_count": 197,
   "metadata": {},
   "outputs": [
    {
     "data": {
      "text/plain": [
       "2    3620\n",
       "1    2117\n",
       "0     182\n",
       "Name: quality_label, dtype: int64"
      ]
     },
     "execution_count": 197,
     "metadata": {},
     "output_type": "execute_result"
    }
   ],
   "source": [
    "total_wine['quality_label'].value_counts()"
   ]
  },
  {
   "cell_type": "code",
   "execution_count": 198,
   "metadata": {},
   "outputs": [
    {
     "name": "stdout",
     "output_type": "stream",
     "text": [
      "accuracy is:  0.6503378378378378\n",
      "Confusion matrix:\n",
      "[[ 10   1  38]\n",
      " [  5 373 302]\n",
      " [ 54 221 772]]\n",
      "              precision    recall  f1-score   support\n",
      "\n",
      "           0       0.14      0.20      0.17        49\n",
      "           1       0.63      0.55      0.59       680\n",
      "           2       0.69      0.74      0.72      1047\n",
      "\n",
      "    accuracy                           0.65      1776\n",
      "   macro avg       0.49      0.50      0.49      1776\n",
      "weighted avg       0.65      0.65      0.65      1776\n",
      "\n",
      "cohen_kappa is:  0.3028166209524942\n"
     ]
    }
   ],
   "source": [
    "# ML for quality of wine Decision tree\n",
    "from sklearn.tree import DecisionTreeClassifier\n",
    "from sklearn.preprocessing import MinMaxScaler\n",
    "from sklearn.model_selection import train_test_split\n",
    "from sklearn.metrics import accuracy_score\n",
    "from sklearn.metrics import confusion_matrix\n",
    "from sklearn.metrics import classification_report\n",
    "from sklearn.metrics import cohen_kappa_score\n",
    "\n",
    "\n",
    "model=DecisionTreeClassifier()\n",
    "x=total_wine.drop(columns=['quality_label', 'quality'])\n",
    "y=total_wine['quality_label']\n",
    "scale=MinMaxScaler()\n",
    "x_train,x_test,y_train,y_test=train_test_split(x,y, test_size=0.3, random_state=0)\n",
    "x_train_n=scale.fit_transform(x_train)\n",
    "x_train_n=pd.DataFrame(x_train_n, columns=x_train.columns)\n",
    "x_test_n=scale.fit_transform(x_test)\n",
    "x_test_n=pd.DataFrame(x_test_n, columns=x_test.columns)\n",
    "model.fit(x_train_n,y_train)\n",
    "predict=model.predict(x_test_n)\n",
    "score=accuracy_score(y_test, predict)\n",
    "print('accuracy is: ', score)\n",
    "print(\"Confusion matrix:\")\n",
    "print(confusion_matrix(y_test, predict))\n",
    "print(classification_report(y_test,predict))\n",
    "cohen=cohen_kappa_score(y_test, predict)\n",
    "print('cohen_kappa is: ', cohen)"
   ]
  },
  {
   "cell_type": "code",
   "execution_count": 199,
   "metadata": {},
   "outputs": [
    {
     "name": "stdout",
     "output_type": "stream",
     "text": [
      "accuracy is:  0.7618243243243243\n",
      "Confusion matrix:\n",
      "[[  9   0  40]\n",
      " [  0 417 263]\n",
      " [  2 118 927]]\n",
      "              precision    recall  f1-score   support\n",
      "\n",
      "           0       0.82      0.18      0.30        49\n",
      "           1       0.78      0.61      0.69       680\n",
      "           2       0.75      0.89      0.81      1047\n",
      "\n",
      "    accuracy                           0.76      1776\n",
      "   macro avg       0.78      0.56      0.60      1776\n",
      "weighted avg       0.77      0.76      0.75      1776\n",
      "\n",
      "cohen_kappa is:  0.4998438776400158\n"
     ]
    }
   ],
   "source": [
    "# ML for quality of wine  RandomForestClassifier\n",
    "from sklearn.ensemble import RandomForestClassifier\n",
    "from sklearn.preprocessing import MinMaxScaler\n",
    "from sklearn.model_selection import train_test_split\n",
    "from sklearn.metrics import accuracy_score\n",
    "from sklearn.metrics import confusion_matrix\n",
    "from sklearn.metrics import classification_report\n",
    "\n",
    "\n",
    "model= RandomForestClassifier()\n",
    "x=total_wine.drop(columns=['quality_label', 'quality'])\n",
    "y=total_wine['quality_label']\n",
    "scale=MinMaxScaler()\n",
    "x_train,x_test,y_train,y_test=train_test_split(x,y, test_size=0.3, random_state=0)\n",
    "x_train_n=scale.fit_transform(x_train)\n",
    "x_train_n=pd.DataFrame(x_train_n, columns=x_train.columns)\n",
    "x_test_n=scale.fit_transform(x_test)\n",
    "x_test_n=pd.DataFrame(x_test_n, columns=x_test.columns)\n",
    "model.fit(x_train_n,y_train)\n",
    "predict=model.predict(x_test_n)\n",
    "score=accuracy_score(y_test, predict)\n",
    "print('accuracy is: ', score)\n",
    "print(\"Confusion matrix:\")\n",
    "print(confusion_matrix(y_test, predict))\n",
    "print(classification_report(y_test,predict))\n",
    "cohen=cohen_kappa_score(y_test, predict)\n",
    "print('cohen_kappa is: ', cohen)"
   ]
  },
  {
   "cell_type": "code",
   "execution_count": 200,
   "metadata": {},
   "outputs": [
    {
     "data": {
      "text/plain": [
       "0    4653\n",
       "1    1266\n",
       "Name: wine_type, dtype: int64"
      ]
     },
     "execution_count": 200,
     "metadata": {},
     "output_type": "execute_result"
    }
   ],
   "source": [
    "total_wine['wine_type'].value_counts()"
   ]
  },
  {
   "cell_type": "code",
   "execution_count": 201,
   "metadata": {},
   "outputs": [
    {
     "name": "stdout",
     "output_type": "stream",
     "text": [
      "accuracy is:  0.7190315315315315\n",
      "Confusion matrix:\n",
      "[[  0   1  48]\n",
      " [  0 358 322]\n",
      " [  0 128 919]]\n",
      "              precision    recall  f1-score   support\n",
      "\n",
      "           0       0.00      0.00      0.00        49\n",
      "           1       0.74      0.53      0.61       680\n",
      "           2       0.71      0.88      0.79      1047\n",
      "\n",
      "    accuracy                           0.72      1776\n",
      "   macro avg       0.48      0.47      0.47      1776\n",
      "weighted avg       0.70      0.72      0.70      1776\n",
      "\n",
      "cohen_kappa is:  0.3985311853338429\n"
     ]
    },
    {
     "name": "stderr",
     "output_type": "stream",
     "text": [
      "/Users/marziehbaes/opt/anaconda3/lib/python3.9/site-packages/sklearn/metrics/_classification.py:1318: UndefinedMetricWarning: Precision and F-score are ill-defined and being set to 0.0 in labels with no predicted samples. Use `zero_division` parameter to control this behavior.\n",
      "  _warn_prf(average, modifier, msg_start, len(result))\n",
      "/Users/marziehbaes/opt/anaconda3/lib/python3.9/site-packages/sklearn/metrics/_classification.py:1318: UndefinedMetricWarning: Precision and F-score are ill-defined and being set to 0.0 in labels with no predicted samples. Use `zero_division` parameter to control this behavior.\n",
      "  _warn_prf(average, modifier, msg_start, len(result))\n",
      "/Users/marziehbaes/opt/anaconda3/lib/python3.9/site-packages/sklearn/metrics/_classification.py:1318: UndefinedMetricWarning: Precision and F-score are ill-defined and being set to 0.0 in labels with no predicted samples. Use `zero_division` parameter to control this behavior.\n",
      "  _warn_prf(average, modifier, msg_start, len(result))\n"
     ]
    }
   ],
   "source": [
    "# ML for quality of wine  LinearDiscriminantAnalysis\n",
    "\n",
    "from sklearn.discriminant_analysis import LinearDiscriminantAnalysis\n",
    "from sklearn.preprocessing import MinMaxScaler\n",
    "from sklearn.model_selection import train_test_split\n",
    "from sklearn.metrics import accuracy_score\n",
    "from sklearn.metrics import confusion_matrix\n",
    "from sklearn.metrics import classification_report\n",
    "\n",
    "\n",
    "model= LinearDiscriminantAnalysis()\n",
    "x=total_wine.drop(columns=['quality_label', 'quality'])\n",
    "y=total_wine['quality_label']\n",
    "scale=MinMaxScaler()\n",
    "x_train,x_test,y_train,y_test=train_test_split(x,y, test_size=0.3, random_state=0)\n",
    "x_train_n=scale.fit_transform(x_train)\n",
    "x_train_n=pd.DataFrame(x_train_n, columns=x_train.columns)\n",
    "x_test_n=scale.fit_transform(x_test)\n",
    "x_test_n=pd.DataFrame(x_test_n, columns=x_test.columns)\n",
    "model.fit(x_train_n,y_train)\n",
    "predict=model.predict(x_test_n)\n",
    "score=accuracy_score(y_test, predict)\n",
    "print('accuracy is: ', score)\n",
    "print(\"Confusion matrix:\")\n",
    "print(confusion_matrix(y_test, predict))\n",
    "print(classification_report(y_test,predict))\n",
    "cohen=cohen_kappa_score(y_test, predict)\n",
    "print('cohen_kappa is: ', cohen)"
   ]
  },
  {
   "cell_type": "code",
   "execution_count": 202,
   "metadata": {},
   "outputs": [
    {
     "name": "stdout",
     "output_type": "stream",
     "text": [
      "accuracy is:  0.6891891891891891\n",
      "Confusion matrix:\n",
      "[[  2   0  47]\n",
      " [  1 354 325]\n",
      " [ 23 156 868]]\n",
      "              precision    recall  f1-score   support\n",
      "\n",
      "           0       0.08      0.04      0.05        49\n",
      "           1       0.69      0.52      0.59       680\n",
      "           2       0.70      0.83      0.76      1047\n",
      "\n",
      "    accuracy                           0.69      1776\n",
      "   macro avg       0.49      0.46      0.47      1776\n",
      "weighted avg       0.68      0.69      0.68      1776\n",
      "\n",
      "cohen_kappa is:  0.34982245914968735\n"
     ]
    }
   ],
   "source": [
    "# ML for quality of wine  adaboost\n",
    "\n",
    "from sklearn.ensemble import AdaBoostClassifier\n",
    "\n",
    "from sklearn.preprocessing import MinMaxScaler\n",
    "from sklearn.model_selection import train_test_split\n",
    "from sklearn.metrics import accuracy_score, cohen_kappa_score, confusion_matrix, classification_report\n",
    "\n",
    "\n",
    "\n",
    "model= AdaBoostClassifier()\n",
    "x=total_wine.drop(columns=['quality_label', 'quality'])\n",
    "y=total_wine['quality_label']\n",
    "scale=MinMaxScaler()\n",
    "x_train,x_test,y_train,y_test=train_test_split(x,y, test_size=0.3, random_state=0)\n",
    "x_train_n=scale.fit_transform(x_train)\n",
    "x_train_n=pd.DataFrame(x_train_n, columns=x_train.columns)\n",
    "x_test_n=scale.fit_transform(x_test)\n",
    "x_test_n=pd.DataFrame(x_test_n, columns=x_test.columns)\n",
    "model.fit(x_train_n,y_train)\n",
    "predict=model.predict(x_test_n)\n",
    "score=accuracy_score(y_test, predict)\n",
    "print('accuracy is: ', score)\n",
    "print(\"Confusion matrix:\")\n",
    "print(confusion_matrix(y_test, predict))\n",
    "print(classification_report(y_test,predict))\n",
    "cohen=cohen_kappa_score(y_test, predict)\n",
    "print('cohen_kappa is: ', cohen)"
   ]
  }
 ],
 "metadata": {
  "kernelspec": {
   "display_name": "Python 3",
   "language": "python",
   "name": "python3"
  },
  "language_info": {
   "codemirror_mode": {
    "name": "ipython",
    "version": 3
   },
   "file_extension": ".py",
   "mimetype": "text/x-python",
   "name": "python",
   "nbconvert_exporter": "python",
   "pygments_lexer": "ipython3",
   "version": "3.9.13 (main, Aug 25 2022, 18:29:29) \n[Clang 12.0.0 ]"
  },
  "orig_nbformat": 4,
  "vscode": {
   "interpreter": {
    "hash": "2918784d2acf282f2c1eeb3293c1f68c9e526abdf8983671e7e8ea84935e28a6"
   }
  }
 },
 "nbformat": 4,
 "nbformat_minor": 2
}
