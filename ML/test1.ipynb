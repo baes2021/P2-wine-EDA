{
 "cells": [
  {
   "cell_type": "code",
   "execution_count": 8,
   "metadata": {},
   "outputs": [
    {
     "name": "stdout",
     "output_type": "stream",
     "text": [
      "Best Score: 0.7850490196078432\n",
      "Best paramets: {'C': 20, 'multi_class': 'auto', 'solver': 'liblinear'} \n"
     ]
    }
   ],
   "source": [
    "import pandas as pd\n",
    "from sklearn.model_selection import RepeatedStratifiedKFold\n",
    "from skopt import BayesSearchCV\n",
    "from sklearn.linear_model import LogisticRegression\n",
    "from scipy.stats import loguniform\n",
    "from sklearn.model_selection import train_test_split, GridSearchCV\n",
    "from sklearn.metrics import accuracy_score\n",
    "\n",
    "import numpy as np\n",
    "df= pd.read_csv( 'https://raw.githubusercontent.com/jbrownlee/Datasets/master/sonar.csv',header=None)\n",
    "x,y=df.iloc[:, :-1], df.iloc[:,-1]\n",
    "x.shape,y.shape\n",
    "model=LogisticRegression(max_iter=400)\n",
    "xtrain,xtest,ytrain,ytest=train_test_split(x,y,test_size=0.2,random_state=1, shuffle=True)\n",
    "cv=RepeatedStratifiedKFold( n_splits=10, n_repeats=3, random_state=1)\n",
    "space=dict()\n",
    "space['solver']=['newton-cg',  'lbfgs', 'liblinear']\n",
    "space['multi_class']= ['auto', 'ovr']\n",
    "space['C'] = [1e-1, 1.0, 10,20,30,40, 100]\n",
    "#space['C'] = list(np.linspace(1, 100,20))\n",
    "search=GridSearchCV(model, space, scoring='accuracy', n_jobs=-1, cv=cv)\n",
    "result=search.fit(xtrain,ytrain)\n",
    "print('Best Score: %s' % result.best_score_)\n",
    "print('Best paramets: %s ' % result.best_params_)"
   ]
  },
  {
   "cell_type": "code",
   "execution_count": 6,
   "metadata": {},
   "outputs": [
    {
     "name": "stdout",
     "output_type": "stream",
     "text": [
      "0.7619047619047619\n"
     ]
    }
   ],
   "source": [
    "model=LogisticRegression(C=20, solver='liblinear', multi_class='auto')\n",
    "\n",
    "re=model.fit(xtrain,ytrain)\n",
    "pr=model.predict(xtest)\n",
    "score=accuracy_score(ytest,pr)\n",
    "print(score)"
   ]
  }
 ],
 "metadata": {
  "kernelspec": {
   "display_name": "Python 3",
   "language": "python",
   "name": "python3"
  },
  "language_info": {
   "codemirror_mode": {
    "name": "ipython",
    "version": 3
   },
   "file_extension": ".py",
   "mimetype": "text/x-python",
   "name": "python",
   "nbconvert_exporter": "python",
   "pygments_lexer": "ipython3",
   "version": "3.9.13"
  },
  "orig_nbformat": 4,
  "vscode": {
   "interpreter": {
    "hash": "2918784d2acf282f2c1eeb3293c1f68c9e526abdf8983671e7e8ea84935e28a6"
   }
  }
 },
 "nbformat": 4,
 "nbformat_minor": 2
}
