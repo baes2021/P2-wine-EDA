{
 "cells": [
  {
   "cell_type": "code",
   "execution_count": 7,
   "metadata": {},
   "outputs": [
    {
     "name": "stderr",
     "output_type": "stream",
     "text": [
      "/var/folders/nm/btrww2_94pncl34mb0yt49j80000gn/T/ipykernel_37382/525166031.py:10: DeprecationWarning: elementwise comparison failed; this will raise an error in the future.\n",
      "  plt.scatter(np.where(x[0]==y) )\n"
     ]
    },
    {
     "ename": "TypeError",
     "evalue": "scatter() missing 1 required positional argument: 'y'",
     "output_type": "error",
     "traceback": [
      "\u001b[0;31m---------------------------------------------------------------------------\u001b[0m",
      "\u001b[0;31mTypeError\u001b[0m                                 Traceback (most recent call last)",
      "\u001b[0;32m/var/folders/nm/btrww2_94pncl34mb0yt49j80000gn/T/ipykernel_37382/525166031.py\u001b[0m in \u001b[0;36m<module>\u001b[0;34m\u001b[0m\n\u001b[1;32m      8\u001b[0m  n_clusters_per_class=1, weights=[0.99], flip_y=0, random_state=1)\n\u001b[1;32m      9\u001b[0m \u001b[0mX\u001b[0m\u001b[0;34m.\u001b[0m\u001b[0mshape\u001b[0m\u001b[0;34m,\u001b[0m \u001b[0my\u001b[0m\u001b[0;34m.\u001b[0m\u001b[0mshape\u001b[0m\u001b[0;34m\u001b[0m\u001b[0;34m\u001b[0m\u001b[0m\n\u001b[0;32m---> 10\u001b[0;31m \u001b[0mplt\u001b[0m\u001b[0;34m.\u001b[0m\u001b[0mscatter\u001b[0m\u001b[0;34m(\u001b[0m\u001b[0mnp\u001b[0m\u001b[0;34m.\u001b[0m\u001b[0mwhere\u001b[0m\u001b[0;34m(\u001b[0m\u001b[0mx\u001b[0m\u001b[0;34m[\u001b[0m\u001b[0;36m0\u001b[0m\u001b[0;34m]\u001b[0m\u001b[0;34m==\u001b[0m\u001b[0my\u001b[0m\u001b[0;34m)\u001b[0m \u001b[0;34m)\u001b[0m\u001b[0;34m\u001b[0m\u001b[0;34m\u001b[0m\u001b[0m\n\u001b[0m",
      "\u001b[0;31mTypeError\u001b[0m: scatter() missing 1 required positional argument: 'y'"
     ]
    }
   ],
   "source": [
    "# Generate and plot a synthetic imbalanced classification dataset\n",
    "from collections import Counter\n",
    "from sklearn.datasets import make_classification\n",
    "from matplotlib import pyplot as plt\n",
    "import numpy as np\n",
    "# define dataset\n",
    "x, y = make_classification(n_samples=10000, n_features=2, n_redundant=0,\n",
    " n_clusters_per_class=1, weights=[0.99], flip_y=0, random_state=1)\n",
    "X.shape, y.shape\n",
    "plt.scatter(np.where(x[0]==y), np. )"
   ]
  },
  {
   "cell_type": "code",
   "execution_count": 16,
   "metadata": {},
   "outputs": [
    {
     "data": {
      "text/plain": [
       "array([ 207,  649,  843, 1017, 1098, 1155, 1306, 1308, 1325, 1374, 1561,\n",
       "       1583, 1632, 1720, 1811, 1813, 1890, 1962, 1963, 2034, 2061, 2093,\n",
       "       2115, 2138, 2312, 2362, 2475, 2703, 2713, 2961, 3060, 3170, 3196,\n",
       "       3309, 3407, 3562, 3598, 3600, 3708, 3812, 3911, 4047, 4122, 4130,\n",
       "       4189, 4571, 4587, 4650, 5017, 5116, 5244, 5297, 5357, 5444, 5451,\n",
       "       5612, 5783, 5912, 5917, 5988, 6021, 6111, 6120, 6253, 6387, 6502,\n",
       "       6591, 6695, 6829, 7011, 7168, 7251, 7329, 7336, 7356, 7360, 7392,\n",
       "       7468, 7584, 7668, 7984, 8168, 8322, 8378, 8405, 8429, 8499, 8554,\n",
       "       8668, 8720, 8859, 9005, 9048, 9092, 9093, 9160, 9498, 9613, 9803,\n",
       "       9909])"
      ]
     },
     "execution_count": 16,
     "metadata": {},
     "output_type": "execute_result"
    }
   ],
   "source": [
    "counter = Counter(y)\n",
    "for label, _ in counter.items():\n",
    " row_ix = where(y == label)[0]\n",
    "row_ix"
   ]
  }
 ],
 "metadata": {
  "kernelspec": {
   "display_name": "Python 3",
   "language": "python",
   "name": "python3"
  },
  "language_info": {
   "codemirror_mode": {
    "name": "ipython",
    "version": 3
   },
   "file_extension": ".py",
   "mimetype": "text/x-python",
   "name": "python",
   "nbconvert_exporter": "python",
   "pygments_lexer": "ipython3",
   "version": "3.9.13"
  },
  "orig_nbformat": 4,
  "vscode": {
   "interpreter": {
    "hash": "2918784d2acf282f2c1eeb3293c1f68c9e526abdf8983671e7e8ea84935e28a6"
   }
  }
 },
 "nbformat": 4,
 "nbformat_minor": 2
}
