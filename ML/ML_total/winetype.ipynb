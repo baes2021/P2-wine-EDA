{
 "cells": [
  {
   "cell_type": "code",
   "execution_count": 44,
   "metadata": {},
   "outputs": [],
   "source": [
    "# This is a program to predict the quality of wine (both red+ white wines). Here I remove outliers based on z score meth.\n",
    "import pandas as pd\n",
    "import numpy as np\n",
    "white_wine=pd.read_csv('../../practice/winequality-white.csv', sep=';')\n",
    "red_wine=pd.read_csv('../../practice/winequality-red.csv', sep=';')\n",
    "white_wine.columns=white_wine.columns.str.replace(' ', '_')\n",
    "red_wine.columns=red_wine.columns.str.replace(' ', '_')"
   ]
  },
  {
   "cell_type": "code",
   "execution_count": 45,
   "metadata": {},
   "outputs": [],
   "source": [
    "# type of wines\n",
    "red_wine['wine_type']=0\n",
    "white_wine['wine_type']=1\n"
   ]
  },
  {
   "cell_type": "code",
   "execution_count": 46,
   "metadata": {},
   "outputs": [],
   "source": [
    "# merge\n",
    "total_wine=pd.concat([white_wine, red_wine])\n",
    "total_wine=total_wine.set_index(np.arange(len(total_wine)))\n"
   ]
  },
  {
   "cell_type": "code",
   "execution_count": 47,
   "metadata": {},
   "outputs": [
    {
     "name": "stdout",
     "output_type": "stream",
     "text": [
      "accuracy is:  0.24923076923076923\n",
      "Confusion matrix:\n",
      "[[ 443   72]\n",
      " [1392   43]]\n",
      "              precision    recall  f1-score   support\n",
      "\n",
      "           0       0.24      0.86      0.38       515\n",
      "           1       0.37      0.03      0.06      1435\n",
      "\n",
      "    accuracy                           0.25      1950\n",
      "   macro avg       0.31      0.45      0.22      1950\n",
      "weighted avg       0.34      0.25      0.14      1950\n",
      "\n",
      "cohen_kappa is:  -0.0602982413786699\n"
     ]
    }
   ],
   "source": [
    "from sklearn.preprocessing import MinMaxScaler\n",
    "from sklearn.metrics import accuracy_score, cohen_kappa_score, confusion_matrix, classification_report\n",
    "from sklearn.model_selection import train_test_split\n",
    "from sklearn.tree import DecisionTreeClassifier\n",
    "model=DecisionTreeClassifier()\n",
    "x=total_wine.drop(columns='wine_type')\n",
    "y=total_wine['wine_type']\n",
    "x_train,x_test,y_train, y_test=train_test_split(x,y, test_size=0.3)\n",
    "scale=MinMaxScaler()\n",
    "x_train_n= scale.fit_transform(x_train)\n",
    "x_train_n= pd.DataFrame(x_train_n, columns=x_train.columns)\n",
    "x_test_n= scale.fit_transform(x_test)\n",
    "x_test_n= pd.DataFrame(x_test_n, columns=x_train.columns)\n",
    "model.fit(x_train_n, y_train)\n",
    "pred=model.predict(x_test)\n",
    "score=accuracy_score(pred, y_test)\n",
    "print('accuracy is: ', score)\n",
    "print(\"Confusion matrix:\")\n",
    "print(confusion_matrix(y_test, pred))\n",
    "print(classification_report(y_test,pred))\n",
    "cohen=cohen_kappa_score(y_test, pred)\n",
    "print('cohen_kappa is: ', cohen)"
   ]
  },
  {
   "cell_type": "code",
   "execution_count": 75,
   "metadata": {},
   "outputs": [
    {
     "name": "stdout",
     "output_type": "stream",
     "text": [
      "accuracy is:  0.9317948717948717\n",
      "Confusion matrix:\n",
      "[[ 322  132]\n",
      " [   1 1495]]\n",
      "              precision    recall  f1-score   support\n",
      "\n",
      "           0       1.00      0.71      0.83       454\n",
      "           1       0.92      1.00      0.96      1496\n",
      "\n",
      "    accuracy                           0.93      1950\n",
      "   macro avg       0.96      0.85      0.89      1950\n",
      "weighted avg       0.94      0.93      0.93      1950\n",
      "\n",
      "cohen_kappa is:  0.7877426820944359\n"
     ]
    }
   ],
   "source": [
    "from sklearn.preprocessing import MinMaxScaler\n",
    "from sklearn.metrics import accuracy_score, cohen_kappa_score, confusion_matrix, classification_report\n",
    "from sklearn.model_selection import train_test_split\n",
    "from sklearn.linear_model import LogisticRegression\n",
    "model=LogisticRegression()\n",
    "x=total_wine.drop(columns='wine_type')\n",
    "y=total_wine['wine_type']\n",
    "x_train,x_test,y_train, y_test=train_test_split(x,y, test_size=0.3)\n",
    "scale=MinMaxScaler()\n",
    "x_train_n= scale.fit_transform(x_train)\n",
    "x_train_n= pd.DataFrame(x_train_n, columns=x_train.columns)\n",
    "x_test_n= scale.fit_transform(x_test)\n",
    "x_test_n= pd.DataFrame(x_test_n, columns=x_test.columns)\n",
    "model.fit(x_train_n, y_train)\n",
    "pred=model.predict(x_test_n)\n",
    "score=accuracy_score(pred, y_test)\n",
    "print('accuracy is: ', score)\n",
    "print(\"Confusion matrix:\")\n",
    "print(confusion_matrix(y_test, pred))\n",
    "print(classification_report(y_test,pred))\n",
    "cohen=cohen_kappa_score(y_test, pred)\n",
    "print('cohen_kappa is: ', cohen)"
   ]
  },
  {
   "cell_type": "code",
   "execution_count": 78,
   "metadata": {},
   "outputs": [
    {
     "name": "stdout",
     "output_type": "stream",
     "text": [
      "accuracy is:  0.9030769230769231\n",
      "Confusion matrix:\n",
      "[[ 441   20]\n",
      " [ 169 1320]]\n",
      "              precision    recall  f1-score   support\n",
      "\n",
      "           0       0.72      0.96      0.82       461\n",
      "           1       0.99      0.89      0.93      1489\n",
      "\n",
      "    accuracy                           0.90      1950\n",
      "   macro avg       0.85      0.92      0.88      1950\n",
      "weighted avg       0.92      0.90      0.91      1950\n",
      "\n",
      "cohen_kappa is:  0.7584909864157323\n"
     ]
    }
   ],
   "source": [
    "from sklearn.preprocessing import MinMaxScaler\n",
    "from sklearn.metrics import accuracy_score, cohen_kappa_score, confusion_matrix, classification_report\n",
    "from sklearn.model_selection import train_test_split\n",
    "from sklearn.tree import DecisionTreeClassifier\n",
    "model=DecisionTreeClassifier()\n",
    "x=total_wine.drop(columns='wine_type')\n",
    "y=total_wine['wine_type']\n",
    "x_train,x_test,y_train, y_test=train_test_split(x,y, test_size=0.3)\n",
    "scale=MinMaxScaler()\n",
    "x_train_n= scale.fit_transform(x_train)\n",
    "x_train_n= pd.DataFrame(x_train_n, columns=x_train.columns)\n",
    "x_test_n= scale.fit_transform(x_test)\n",
    "x_test_n= pd.DataFrame(x_test_n, columns=x_test.columns)\n",
    "model.fit(x_train_n, y_train)\n",
    "pred=model.predict(x_test_n)\n",
    "score=accuracy_score(pred, y_test)\n",
    "print('accuracy is: ', score)\n",
    "print(\"Confusion matrix:\")\n",
    "print(confusion_matrix(y_test, pred))\n",
    "print(classification_report(y_test,pred))\n",
    "cohen=cohen_kappa_score(y_test, pred)\n",
    "print('cohen_kappa is: ', cohen)"
   ]
  },
  {
   "cell_type": "code",
   "execution_count": 55,
   "metadata": {},
   "outputs": [
    {
     "name": "stdout",
     "output_type": "stream",
     "text": [
      "accuracy is:  0.9825641025641025\n",
      "Confusion matrix:\n",
      "[[ 479    4]\n",
      " [  30 1437]]\n",
      "              precision    recall  f1-score   support\n",
      "\n",
      "           0       0.94      0.99      0.97       483\n",
      "           1       1.00      0.98      0.99      1467\n",
      "\n",
      "    accuracy                           0.98      1950\n",
      "   macro avg       0.97      0.99      0.98      1950\n",
      "weighted avg       0.98      0.98      0.98      1950\n",
      "\n",
      "cohen_kappa is:  0.9540446910181284\n"
     ]
    }
   ],
   "source": [
    "from sklearn.preprocessing import MinMaxScaler\n",
    "from sklearn.metrics import accuracy_score, cohen_kappa_score, confusion_matrix, classification_report\n",
    "from sklearn.model_selection import train_test_split\n",
    "from sklearn.ensemble import RandomForestClassifier\n",
    "model=RandomForestClassifier()\n",
    "x=total_wine.drop(columns='wine_type')\n",
    "y=total_wine['wine_type']\n",
    "x_train,x_test,y_train, y_test=train_test_split(x,y, test_size=0.3)\n",
    "scale=MinMaxScaler()\n",
    "x_train_n= scale.fit_transform(x_train)\n",
    "x_train_n= pd.DataFrame(x_train_n, columns=x_train.columns)\n",
    "x_test_n= scale.fit_transform(x_test)\n",
    "x_test_n= pd.DataFrame(x_test_n, columns=x_test.columns)\n",
    "model.fit(x_train_n, y_train)\n",
    "pred=model.predict(x_test_n)\n",
    "score=accuracy_score(pred, y_test)\n",
    "print('accuracy is: ', score)\n",
    "print(\"Confusion matrix:\")\n",
    "print(confusion_matrix(y_test, pred))\n",
    "print(classification_report(y_test,pred))\n",
    "cohen=cohen_kappa_score(y_test, pred)\n",
    "print('cohen_kappa is: ', cohen)"
   ]
  },
  {
   "cell_type": "code",
   "execution_count": 85,
   "metadata": {},
   "outputs": [
    {
     "name": "stdout",
     "output_type": "stream",
     "text": [
      "accuracy is:  0.45794871794871794\n",
      "Confusion matrix:\n",
      "[[ 500    2]\n",
      " [1055  393]]\n",
      "              precision    recall  f1-score   support\n",
      "\n",
      "           0       0.32      1.00      0.49       502\n",
      "           1       0.99      0.27      0.43      1448\n",
      "\n",
      "    accuracy                           0.46      1950\n",
      "   macro avg       0.66      0.63      0.46      1950\n",
      "weighted avg       0.82      0.46      0.44      1950\n",
      "\n",
      "cohen_kappa is:  0.15869024829280842\n"
     ]
    }
   ],
   "source": [
    "from sklearn.preprocessing import MinMaxScaler\n",
    "from sklearn.metrics import accuracy_score, cohen_kappa_score, confusion_matrix, classification_report\n",
    "from sklearn.model_selection import train_test_split\n",
    "from sklearn.discriminant_analysis import LinearDiscriminantAnalysis\n",
    "model=LinearDiscriminantAnalysis()\n",
    "x=total_wine.drop(columns='wine_type')\n",
    "y=total_wine['wine_type']\n",
    "x_train,x_test,y_train, y_test=train_test_split(x,y, test_size=0.3)\n",
    "scale=MinMaxScaler()\n",
    "x_train_n= scale.fit_transform(x_train)\n",
    "x_train_n= pd.DataFrame(x_train_n, columns=x_train.columns)\n",
    "x_test_n= scale.fit_transform(x_test)\n",
    "x_test_n= pd.DataFrame(x_test_n, columns=x_test.columns)\n",
    "model.fit(x_train_n, y_train)\n",
    "pred=model.predict(x_test_n)\n",
    "score=accuracy_score(pred, y_test)\n",
    "print('accuracy is: ', score)\n",
    "print(\"Confusion matrix:\")\n",
    "print(confusion_matrix(y_test, pred))\n",
    "print(classification_report(y_test,pred))\n",
    "cohen=cohen_kappa_score(y_test, pred)\n",
    "print('cohen_kappa is: ', cohen)"
   ]
  },
  {
   "cell_type": "code",
   "execution_count": 87,
   "metadata": {},
   "outputs": [
    {
     "name": "stdout",
     "output_type": "stream",
     "text": [
      "accuracy is:  0.7564102564102564\n",
      "Confusion matrix:\n",
      "[[  56  429]\n",
      " [  46 1419]]\n",
      "              precision    recall  f1-score   support\n",
      "\n",
      "           0       0.55      0.12      0.19       485\n",
      "           1       0.77      0.97      0.86      1465\n",
      "\n",
      "    accuracy                           0.76      1950\n",
      "   macro avg       0.66      0.54      0.52      1950\n",
      "weighted avg       0.71      0.76      0.69      1950\n",
      "\n",
      "cohen_kappa is:  0.1142381731072667\n"
     ]
    }
   ],
   "source": [
    "from sklearn.preprocessing import MinMaxScaler\n",
    "from sklearn.metrics import accuracy_score, cohen_kappa_score, confusion_matrix, classification_report\n",
    "from sklearn.model_selection import train_test_split\n",
    "from sklearn.naive_bayes import GaussianNB\n",
    "model=GaussianNB()\n",
    "x=total_wine.drop(columns='wine_type')\n",
    "y=total_wine['wine_type']\n",
    "x_train,x_test,y_train, y_test=train_test_split(x,y, test_size=0.3)\n",
    "scale=MinMaxScaler()\n",
    "x_train_n= scale.fit_transform(x_train)\n",
    "x_train_n= pd.DataFrame(x_train_n, columns=x_train.columns)\n",
    "x_test_n= scale.fit_transform(x_test)\n",
    "x_test_n= pd.DataFrame(x_test_n, columns=x_test.columns)\n",
    "model.fit(x_train_n, y_train)\n",
    "pred=model.predict(x_test_n)\n",
    "score=accuracy_score(pred, y_test)\n",
    "print('accuracy is: ', score)\n",
    "print(\"Confusion matrix:\")\n",
    "print(confusion_matrix(y_test, pred))\n",
    "print(classification_report(y_test,pred))\n",
    "cohen=cohen_kappa_score(y_test, pred)\n",
    "print('cohen_kappa is: ', cohen)"
   ]
  },
  {
   "cell_type": "code",
   "execution_count": 69,
   "metadata": {},
   "outputs": [
    {
     "name": "stdout",
     "output_type": "stream",
     "text": [
      "accuracy is:  0.9856410256410256\n",
      "Confusion matrix:\n",
      "[[ 482    5]\n",
      " [  23 1440]]\n",
      "              precision    recall  f1-score   support\n",
      "\n",
      "           0       0.95      0.99      0.97       487\n",
      "           1       1.00      0.98      0.99      1463\n",
      "\n",
      "    accuracy                           0.99      1950\n",
      "   macro avg       0.98      0.99      0.98      1950\n",
      "weighted avg       0.99      0.99      0.99      1950\n",
      "\n",
      "cohen_kappa is:  0.9621498339722571\n"
     ]
    },
    {
     "name": "stderr",
     "output_type": "stream",
     "text": [
      "/Users/marziehbaes/opt/anaconda3/lib/python3.9/site-packages/sklearn/neighbors/_classification.py:228: FutureWarning: Unlike other reduction functions (e.g. `skew`, `kurtosis`), the default behavior of `mode` typically preserves the axis it acts along. In SciPy 1.11.0, this behavior will change: the default value of `keepdims` will become False, the `axis` over which the statistic is taken will be eliminated, and the value None will no longer be accepted. Set `keepdims` to True or False to avoid this warning.\n",
      "  mode, _ = stats.mode(_y[neigh_ind, k], axis=1)\n"
     ]
    }
   ],
   "source": [
    "from sklearn.preprocessing import MinMaxScaler\n",
    "from sklearn.metrics import accuracy_score, cohen_kappa_score, confusion_matrix, classification_report\n",
    "from sklearn.model_selection import train_test_split\n",
    "from sklearn.neighbors import KNeighborsClassifier\n",
    "model=KNeighborsClassifier()\n",
    "x=total_wine.drop(columns='wine_type')\n",
    "y=total_wine['wine_type']\n",
    "x_train,x_test,y_train, y_test=train_test_split(x,y, test_size=0.3)\n",
    "scale=MinMaxScaler()\n",
    "x_train_n= scale.fit_transform(x_train)\n",
    "x_train_n= pd.DataFrame(x_train_n, columns=x_train.columns)\n",
    "x_test_n= scale.fit_transform(x_test)\n",
    "x_test_n= pd.DataFrame(x_test_n, columns=x_test.columns)\n",
    "model.fit(x_train_n, y_train)\n",
    "pred=model.predict(x_test_n)\n",
    "score=accuracy_score(pred, y_test)\n",
    "print('accuracy is: ', score)\n",
    "print(\"Confusion matrix:\")\n",
    "print(confusion_matrix(y_test, pred))\n",
    "print(classification_report(y_test,pred))\n",
    "cohen=cohen_kappa_score(y_test, pred)\n",
    "print('cohen_kappa is: ', cohen)"
   ]
  },
  {
   "cell_type": "code",
   "execution_count": 89,
   "metadata": {},
   "outputs": [
    {
     "name": "stdout",
     "output_type": "stream",
     "text": [
      "accuracy is:  0.8953846153846153\n",
      "Confusion matrix:\n",
      "[[ 264  204]\n",
      " [   0 1482]]\n",
      "              precision    recall  f1-score   support\n",
      "\n",
      "           0       1.00      0.56      0.72       468\n",
      "           1       0.88      1.00      0.94      1482\n",
      "\n",
      "    accuracy                           0.90      1950\n",
      "   macro avg       0.94      0.78      0.83      1950\n",
      "weighted avg       0.91      0.90      0.88      1950\n",
      "\n",
      "cohen_kappa is:  0.6629659000793021\n"
     ]
    }
   ],
   "source": [
    "from sklearn.preprocessing import MinMaxScaler\n",
    "from sklearn.metrics import accuracy_score, cohen_kappa_score, confusion_matrix, classification_report\n",
    "from sklearn.model_selection import train_test_split\n",
    "from sklearn.svm import SVC\n",
    "model=SVC()\n",
    "x=total_wine.drop(columns='wine_type')\n",
    "y=total_wine['wine_type']\n",
    "x_train,x_test,y_train, y_test=train_test_split(x,y, test_size=0.3)\n",
    "scale=MinMaxScaler()\n",
    "x_train_n= scale.fit_transform(x_train)\n",
    "x_train_n= pd.DataFrame(x_train_n, columns=x_train.columns)\n",
    "x_test_n= scale.fit_transform(x_test)\n",
    "x_test_n= pd.DataFrame(x_test_n, columns=x_test.columns)\n",
    "model.fit(x_train_n, y_train)\n",
    "pred=model.predict(x_test_n)\n",
    "score=accuracy_score(pred, y_test)\n",
    "print('accuracy is: ', score)\n",
    "print(\"Confusion matrix:\")\n",
    "print(confusion_matrix(y_test, pred))\n",
    "print(classification_report(y_test,pred))\n",
    "cohen=cohen_kappa_score(y_test, pred)\n",
    "print('cohen_kappa is: ', cohen)"
   ]
  },
  {
   "cell_type": "code",
   "execution_count": 95,
   "metadata": {},
   "outputs": [
    {
     "name": "stdout",
     "output_type": "stream",
     "text": [
      "accuracy is:  0.9123076923076923\n",
      "Confusion matrix:\n",
      "[[ 497   26]\n",
      " [ 145 1282]]\n",
      "              precision    recall  f1-score   support\n",
      "\n",
      "           0       0.77      0.95      0.85       523\n",
      "           1       0.98      0.90      0.94      1427\n",
      "\n",
      "    accuracy                           0.91      1950\n",
      "   macro avg       0.88      0.92      0.90      1950\n",
      "weighted avg       0.92      0.91      0.91      1950\n",
      "\n",
      "cohen_kappa is:  0.791622141483223\n"
     ]
    }
   ],
   "source": [
    "from sklearn.preprocessing import MinMaxScaler\n",
    "from sklearn.metrics import accuracy_score, cohen_kappa_score, confusion_matrix, classification_report\n",
    "from sklearn.model_selection import train_test_split\n",
    "from sklearn.ensemble import AdaBoostClassifier\n",
    "model=AdaBoostClassifier()\n",
    "x=total_wine.drop(columns='wine_type')\n",
    "y=total_wine['wine_type']\n",
    "x_train,x_test,y_train, y_test=train_test_split(x,y, test_size=0.3)\n",
    "scale=MinMaxScaler()\n",
    "x_train_n= scale.fit_transform(x_train)\n",
    "x_train_n= pd.DataFrame(x_train_n, columns=x_train.columns)\n",
    "x_test_n= scale.fit_transform(x_test)\n",
    "x_test_n= pd.DataFrame(x_test_n, columns=x_test.columns)\n",
    "model.fit(x_train_n, y_train)\n",
    "pred=model.predict(x_test_n)\n",
    "score=accuracy_score(pred, y_test)\n",
    "print('accuracy is: ', score)\n",
    "print(\"Confusion matrix:\")\n",
    "print(confusion_matrix(y_test, pred))\n",
    "print(classification_report(y_test,pred))\n",
    "cohen=cohen_kappa_score(y_test, pred)\n",
    "print('cohen_kappa is: ', cohen)"
   ]
  }
 ],
 "metadata": {
  "kernelspec": {
   "display_name": "Python 3",
   "language": "python",
   "name": "python3"
  },
  "language_info": {
   "codemirror_mode": {
    "name": "ipython",
    "version": 3
   },
   "file_extension": ".py",
   "mimetype": "text/x-python",
   "name": "python",
   "nbconvert_exporter": "python",
   "pygments_lexer": "ipython3",
   "version": "3.9.13"
  },
  "orig_nbformat": 4,
  "vscode": {
   "interpreter": {
    "hash": "2918784d2acf282f2c1eeb3293c1f68c9e526abdf8983671e7e8ea84935e28a6"
   }
  }
 },
 "nbformat": 4,
 "nbformat_minor": 2
}
