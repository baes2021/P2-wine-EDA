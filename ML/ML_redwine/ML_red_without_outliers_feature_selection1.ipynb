{
 "cells": [
  {
   "cell_type": "code",
   "execution_count": 2,
   "metadata": {},
   "outputs": [
    {
     "data": {
      "text/html": [
       "<div>\n",
       "<style scoped>\n",
       "    .dataframe tbody tr th:only-of-type {\n",
       "        vertical-align: middle;\n",
       "    }\n",
       "\n",
       "    .dataframe tbody tr th {\n",
       "        vertical-align: top;\n",
       "    }\n",
       "\n",
       "    .dataframe thead th {\n",
       "        text-align: right;\n",
       "    }\n",
       "</style>\n",
       "<table border=\"1\" class=\"dataframe\">\n",
       "  <thead>\n",
       "    <tr style=\"text-align: right;\">\n",
       "      <th></th>\n",
       "      <th>fixed_acidity</th>\n",
       "      <th>volatile_acidity</th>\n",
       "      <th>citric_acid</th>\n",
       "      <th>residual_sugar</th>\n",
       "      <th>chlorides</th>\n",
       "      <th>free_sulfur_dioxide</th>\n",
       "      <th>total_sulfur_dioxide</th>\n",
       "      <th>density</th>\n",
       "      <th>pH</th>\n",
       "      <th>sulphates</th>\n",
       "      <th>alcohol</th>\n",
       "      <th>quality</th>\n",
       "    </tr>\n",
       "  </thead>\n",
       "  <tbody>\n",
       "    <tr>\n",
       "      <th>0</th>\n",
       "      <td>7.4</td>\n",
       "      <td>0.700</td>\n",
       "      <td>0.00</td>\n",
       "      <td>1.9</td>\n",
       "      <td>0.076</td>\n",
       "      <td>11.0</td>\n",
       "      <td>34.0</td>\n",
       "      <td>0.99780</td>\n",
       "      <td>3.51</td>\n",
       "      <td>0.56</td>\n",
       "      <td>9.4</td>\n",
       "      <td>5</td>\n",
       "    </tr>\n",
       "    <tr>\n",
       "      <th>1</th>\n",
       "      <td>7.8</td>\n",
       "      <td>0.880</td>\n",
       "      <td>0.00</td>\n",
       "      <td>2.6</td>\n",
       "      <td>0.098</td>\n",
       "      <td>25.0</td>\n",
       "      <td>67.0</td>\n",
       "      <td>0.99680</td>\n",
       "      <td>3.20</td>\n",
       "      <td>0.68</td>\n",
       "      <td>9.8</td>\n",
       "      <td>5</td>\n",
       "    </tr>\n",
       "    <tr>\n",
       "      <th>2</th>\n",
       "      <td>7.8</td>\n",
       "      <td>0.760</td>\n",
       "      <td>0.04</td>\n",
       "      <td>2.3</td>\n",
       "      <td>0.092</td>\n",
       "      <td>15.0</td>\n",
       "      <td>54.0</td>\n",
       "      <td>0.99700</td>\n",
       "      <td>3.26</td>\n",
       "      <td>0.65</td>\n",
       "      <td>9.8</td>\n",
       "      <td>5</td>\n",
       "    </tr>\n",
       "    <tr>\n",
       "      <th>3</th>\n",
       "      <td>11.2</td>\n",
       "      <td>0.280</td>\n",
       "      <td>0.56</td>\n",
       "      <td>1.9</td>\n",
       "      <td>0.075</td>\n",
       "      <td>17.0</td>\n",
       "      <td>60.0</td>\n",
       "      <td>0.99800</td>\n",
       "      <td>3.16</td>\n",
       "      <td>0.58</td>\n",
       "      <td>9.8</td>\n",
       "      <td>6</td>\n",
       "    </tr>\n",
       "    <tr>\n",
       "      <th>4</th>\n",
       "      <td>7.4</td>\n",
       "      <td>0.700</td>\n",
       "      <td>0.00</td>\n",
       "      <td>1.9</td>\n",
       "      <td>0.076</td>\n",
       "      <td>11.0</td>\n",
       "      <td>34.0</td>\n",
       "      <td>0.99780</td>\n",
       "      <td>3.51</td>\n",
       "      <td>0.56</td>\n",
       "      <td>9.4</td>\n",
       "      <td>5</td>\n",
       "    </tr>\n",
       "    <tr>\n",
       "      <th>...</th>\n",
       "      <td>...</td>\n",
       "      <td>...</td>\n",
       "      <td>...</td>\n",
       "      <td>...</td>\n",
       "      <td>...</td>\n",
       "      <td>...</td>\n",
       "      <td>...</td>\n",
       "      <td>...</td>\n",
       "      <td>...</td>\n",
       "      <td>...</td>\n",
       "      <td>...</td>\n",
       "      <td>...</td>\n",
       "    </tr>\n",
       "    <tr>\n",
       "      <th>1594</th>\n",
       "      <td>6.2</td>\n",
       "      <td>0.600</td>\n",
       "      <td>0.08</td>\n",
       "      <td>2.0</td>\n",
       "      <td>0.090</td>\n",
       "      <td>32.0</td>\n",
       "      <td>44.0</td>\n",
       "      <td>0.99490</td>\n",
       "      <td>3.45</td>\n",
       "      <td>0.58</td>\n",
       "      <td>10.5</td>\n",
       "      <td>5</td>\n",
       "    </tr>\n",
       "    <tr>\n",
       "      <th>1595</th>\n",
       "      <td>5.9</td>\n",
       "      <td>0.550</td>\n",
       "      <td>0.10</td>\n",
       "      <td>2.2</td>\n",
       "      <td>0.062</td>\n",
       "      <td>39.0</td>\n",
       "      <td>51.0</td>\n",
       "      <td>0.99512</td>\n",
       "      <td>3.52</td>\n",
       "      <td>0.76</td>\n",
       "      <td>11.2</td>\n",
       "      <td>6</td>\n",
       "    </tr>\n",
       "    <tr>\n",
       "      <th>1596</th>\n",
       "      <td>6.3</td>\n",
       "      <td>0.510</td>\n",
       "      <td>0.13</td>\n",
       "      <td>2.3</td>\n",
       "      <td>0.076</td>\n",
       "      <td>29.0</td>\n",
       "      <td>40.0</td>\n",
       "      <td>0.99574</td>\n",
       "      <td>3.42</td>\n",
       "      <td>0.75</td>\n",
       "      <td>11.0</td>\n",
       "      <td>6</td>\n",
       "    </tr>\n",
       "    <tr>\n",
       "      <th>1597</th>\n",
       "      <td>5.9</td>\n",
       "      <td>0.645</td>\n",
       "      <td>0.12</td>\n",
       "      <td>2.0</td>\n",
       "      <td>0.075</td>\n",
       "      <td>32.0</td>\n",
       "      <td>44.0</td>\n",
       "      <td>0.99547</td>\n",
       "      <td>3.57</td>\n",
       "      <td>0.71</td>\n",
       "      <td>10.2</td>\n",
       "      <td>5</td>\n",
       "    </tr>\n",
       "    <tr>\n",
       "      <th>1598</th>\n",
       "      <td>6.0</td>\n",
       "      <td>0.310</td>\n",
       "      <td>0.47</td>\n",
       "      <td>3.6</td>\n",
       "      <td>0.067</td>\n",
       "      <td>18.0</td>\n",
       "      <td>42.0</td>\n",
       "      <td>0.99549</td>\n",
       "      <td>3.39</td>\n",
       "      <td>0.66</td>\n",
       "      <td>11.0</td>\n",
       "      <td>6</td>\n",
       "    </tr>\n",
       "  </tbody>\n",
       "</table>\n",
       "<p>1599 rows × 12 columns</p>\n",
       "</div>"
      ],
      "text/plain": [
       "      fixed_acidity  volatile_acidity  citric_acid  residual_sugar  chlorides  \\\n",
       "0               7.4             0.700         0.00             1.9      0.076   \n",
       "1               7.8             0.880         0.00             2.6      0.098   \n",
       "2               7.8             0.760         0.04             2.3      0.092   \n",
       "3              11.2             0.280         0.56             1.9      0.075   \n",
       "4               7.4             0.700         0.00             1.9      0.076   \n",
       "...             ...               ...          ...             ...        ...   \n",
       "1594            6.2             0.600         0.08             2.0      0.090   \n",
       "1595            5.9             0.550         0.10             2.2      0.062   \n",
       "1596            6.3             0.510         0.13             2.3      0.076   \n",
       "1597            5.9             0.645         0.12             2.0      0.075   \n",
       "1598            6.0             0.310         0.47             3.6      0.067   \n",
       "\n",
       "      free_sulfur_dioxide  total_sulfur_dioxide  density    pH  sulphates  \\\n",
       "0                    11.0                  34.0  0.99780  3.51       0.56   \n",
       "1                    25.0                  67.0  0.99680  3.20       0.68   \n",
       "2                    15.0                  54.0  0.99700  3.26       0.65   \n",
       "3                    17.0                  60.0  0.99800  3.16       0.58   \n",
       "4                    11.0                  34.0  0.99780  3.51       0.56   \n",
       "...                   ...                   ...      ...   ...        ...   \n",
       "1594                 32.0                  44.0  0.99490  3.45       0.58   \n",
       "1595                 39.0                  51.0  0.99512  3.52       0.76   \n",
       "1596                 29.0                  40.0  0.99574  3.42       0.75   \n",
       "1597                 32.0                  44.0  0.99547  3.57       0.71   \n",
       "1598                 18.0                  42.0  0.99549  3.39       0.66   \n",
       "\n",
       "      alcohol  quality  \n",
       "0         9.4        5  \n",
       "1         9.8        5  \n",
       "2         9.8        5  \n",
       "3         9.8        6  \n",
       "4         9.4        5  \n",
       "...       ...      ...  \n",
       "1594     10.5        5  \n",
       "1595     11.2        6  \n",
       "1596     11.0        6  \n",
       "1597     10.2        5  \n",
       "1598     11.0        6  \n",
       "\n",
       "[1599 rows x 12 columns]"
      ]
     },
     "execution_count": 2,
     "metadata": {},
     "output_type": "execute_result"
    }
   ],
   "source": [
    "# here we remove pH and density from ML model + outlier removing\n",
    "import pandas as pd\n",
    "import numpy as np\n",
    "red_wine=pd.read_csv('../../practice/winequality-red.csv', sep=';')\n",
    "red_wine.columns= red_wine.columns.str.replace(' ','_')\n",
    "red_wine"
   ]
  },
  {
   "cell_type": "code",
   "execution_count": 3,
   "metadata": {},
   "outputs": [
    {
     "data": {
      "text/plain": [
       "5    681\n",
       "6    638\n",
       "7    199\n",
       "4     53\n",
       "8     18\n",
       "3     10\n",
       "Name: quality, dtype: int64"
      ]
     },
     "execution_count": 3,
     "metadata": {},
     "output_type": "execute_result"
    }
   ],
   "source": [
    "red_wine['quality'].value_counts()"
   ]
  },
  {
   "cell_type": "code",
   "execution_count": 4,
   "metadata": {},
   "outputs": [
    {
     "data": {
      "text/plain": [
       "fixed_acidity           0.982751\n",
       "volatile_acidity        0.671593\n",
       "citric_acid             0.318337\n",
       "residual_sugar          4.540655\n",
       "chlorides               5.680347\n",
       "free_sulfur_dioxide     1.250567\n",
       "total_sulfur_dioxide    1.515531\n",
       "density                 0.071288\n",
       "pH                      0.193683\n",
       "sulphates               2.428672\n",
       "alcohol                 0.860829\n",
       "quality                 0.217802\n",
       "dtype: float64"
      ]
     },
     "execution_count": 4,
     "metadata": {},
     "output_type": "execute_result"
    }
   ],
   "source": [
    "red_wine.skew()"
   ]
  },
  {
   "cell_type": "code",
   "execution_count": 5,
   "metadata": {},
   "outputs": [
    {
     "data": {
      "text/plain": [
       "fixed_acidity            1.132143\n",
       "volatile_acidity         1.225542\n",
       "citric_acid             -0.788998\n",
       "residual_sugar          28.617595\n",
       "chlorides               41.715787\n",
       "free_sulfur_dioxide      2.023562\n",
       "total_sulfur_dioxide     3.809824\n",
       "density                  0.934079\n",
       "pH                       0.806943\n",
       "sulphates               11.720251\n",
       "alcohol                  0.200029\n",
       "quality                  0.296708\n",
       "dtype: float64"
      ]
     },
     "execution_count": 5,
     "metadata": {},
     "output_type": "execute_result"
    }
   ],
   "source": [
    "red_wine.kurt()"
   ]
  },
  {
   "cell_type": "code",
   "execution_count": 6,
   "metadata": {},
   "outputs": [],
   "source": [
    "#new column\n",
    "red_wine['quality_label']=red_wine['quality'].apply(lambda x: 'low' if x <=5 else 'medium' if x<=7 else 'high')\n",
    "red_wine['quality_label']=pd.Categorical(red_wine['quality_label'], categories=['high','medium','low'])"
   ]
  },
  {
   "cell_type": "code",
   "execution_count": 7,
   "metadata": {},
   "outputs": [
    {
     "data": {
      "text/plain": [
       "<AxesSubplot:>"
      ]
     },
     "execution_count": 7,
     "metadata": {},
     "output_type": "execute_result"
    },
    {
     "data": {
      "image/png": "[encoded data removed]",
      "text/plain": [
       "<Figure size 1000x1000 with 2 Axes>"
      ]
     },
     "metadata": {},
     "output_type": "display_data"
    }
   ],
   "source": [
    "import seaborn as sns\n",
    "import matplotlib.pyplot as plt\n",
    "fig=plt.figure(figsize=(10,10))\n",
    "\n",
    "sns.heatmap(red_wine.corr(), mask=np.triu(np.ones_like(red_wine.corr(),dtype=bool)), cmap='Spectral', annot=True)"
   ]
  },
  {
   "cell_type": "code",
   "execution_count": 8,
   "metadata": {},
   "outputs": [],
   "source": [
    "# sI use z score method to remove outliers\n",
    "def outliers_remov(df):\n",
    "    for colu in df.loc[:,'fixed_acidity':'quality']:\n",
    "        mean_df=df[colu].mean()\n",
    "        std_df=df[colu].std()\n",
    "        df_out= df[(df[colu] <= 3*std_df+mean_df) & (df[colu] >= (mean_df-3*std_df))]\n",
    "        df=df_out       \n",
    "    return df_out\n",
    "\n",
    "\n",
    "red_wine=outliers_remov(red_wine)\n",
    "red_wine= red_wine.set_index(np.arange(len(red_wine)))"
   ]
  },
  {
   "cell_type": "code",
   "execution_count": 9,
   "metadata": {},
   "outputs": [
    {
     "data": {
      "text/plain": [
       "array(['low', 'low', 'low', ..., 'medium', 'low', 'medium'], dtype=object)"
      ]
     },
     "execution_count": 9,
     "metadata": {},
     "output_type": "execute_result"
    }
   ],
   "source": [
    "#encoding\n",
    "from sklearn.preprocessing import LabelEncoder\n",
    "le0=LabelEncoder()\n",
    "red_wine['quality_label']=le0.fit_transform(red_wine['quality_label'])\n",
    "le0.inverse_transform(red_wine['quality_label'])"
   ]
  },
  {
   "cell_type": "code",
   "execution_count": 29,
   "metadata": {},
   "outputs": [
    {
     "name": "stdout",
     "output_type": "stream",
     "text": [
      "Accuracy score :  0.6962616822429907\n",
      "\n",
      "Cnofusion Matrix : \n",
      " [[  1   0   4]\n",
      " [  2 138  54]\n",
      " [  9  61 159]]\n",
      "\n",
      "Cohen_kappa:  0.41323490640653837\n",
      "\n",
      " classification_report: \n",
      "               precision    recall  f1-score   support\n",
      "\n",
      "           0       0.08      0.20      0.12         5\n",
      "           1       0.69      0.71      0.70       194\n",
      "           2       0.73      0.69      0.71       229\n",
      "\n",
      "    accuracy                           0.70       428\n",
      "   macro avg       0.50      0.54      0.51       428\n",
      "weighted avg       0.71      0.70      0.70       428\n",
      "\n"
     ]
    }
   ],
   "source": [
    "# ML for quality of wine Decision tree\n",
    "from sklearn.preprocessing import MinMaxScaler\n",
    "from sklearn.tree import DecisionTreeClassifier\n",
    "from sklearn.model_selection import train_test_split\n",
    "from sklearn.metrics import cohen_kappa_score, confusion_matrix, classification_report, accuracy_score\n",
    "x=red_wine.drop(columns=['quality', 'quality_label'])\n",
    "y=red_wine['quality_label']\n",
    "x_train, x_test, y_train, y_test = train_test_split(x,y,test_size=0.3, random_state=0)\n",
    "scale=MinMaxScaler()\n",
    "x_train_n=scale.fit_transform(x_train)\n",
    "x_train_n=pd.DataFrame(x_train_n)\n",
    "x_test_n=scale.fit_transform(x_test)\n",
    "x_test_n=pd.DataFrame(x_test_n)\n",
    "model= DecisionTreeClassifier()\n",
    "model.fit(x_train_n,y_train)\n",
    "pred=model.predict(x_test_n)\n",
    "score=accuracy_score(y_test,pred)\n",
    "print('Accuracy score : ', score)\n",
    "print('\\nCnofusion Matrix : \\n', confusion_matrix(y_test,pred))\n",
    "print('\\nCohen_kappa: ', cohen_kappa_score(y_test,pred))\n",
    "print('\\n classification_report: \\n', classification_report(y_test, pred))"
   ]
  },
  {
   "cell_type": "code",
   "execution_count": 24,
   "metadata": {},
   "outputs": [
    {
     "name": "stdout",
     "output_type": "stream",
     "text": [
      "Accuracy score :  0.6845794392523364\n",
      "\n",
      "Cnofusion Matrix : \n",
      " [[  1   0   4]\n",
      " [  0 136  58]\n",
      " [ 10  63 156]]\n",
      "\n",
      "Cohen_kappa:  0.38922421538884366\n",
      "\n",
      " classification_report: \n",
      "               precision    recall  f1-score   support\n",
      "\n",
      "           0       0.09      0.20      0.13         5\n",
      "           1       0.68      0.70      0.69       194\n",
      "           2       0.72      0.68      0.70       229\n",
      "\n",
      "    accuracy                           0.68       428\n",
      "   macro avg       0.50      0.53      0.51       428\n",
      "weighted avg       0.69      0.68      0.69       428\n",
      "\n"
     ]
    }
   ],
   "source": [
    "# ML for quality of wine Decision tree\n",
    "from sklearn.preprocessing import MinMaxScaler\n",
    "from sklearn.tree import DecisionTreeClassifier\n",
    "from sklearn.model_selection import train_test_split\n",
    "from sklearn.metrics import cohen_kappa_score, confusion_matrix, classification_report, accuracy_score\n",
    "x=red_wine.drop(columns=['quality', 'quality_label', 'pH','density','citric_acid'])\n",
    "y=red_wine['quality_label']\n",
    "x_train, x_test, y_train, y_test = train_test_split(x,y,test_size=0.3, random_state=0)\n",
    "scale=MinMaxScaler()\n",
    "x_train_n=scale.fit_transform(x_train)\n",
    "x_train_n=pd.DataFrame(x_train_n)\n",
    "x_test_n=scale.fit_transform(x_test)\n",
    "x_test_n=pd.DataFrame(x_test_n)\n",
    "model= DecisionTreeClassifier()\n",
    "model.fit(x_train_n,y_train)\n",
    "pred=model.predict(x_test_n)\n",
    "score=accuracy_score(y_test,pred)\n",
    "print('Accuracy score : ', score)\n",
    "print('\\nCnofusion Matrix : \\n', confusion_matrix(y_test,pred))\n",
    "print('\\nCohen_kappa: ', cohen_kappa_score(y_test,pred))\n",
    "print('\\n classification_report: \\n', classification_report(y_test, pred))"
   ]
  },
  {
   "cell_type": "code",
   "execution_count": 12,
   "metadata": {},
   "outputs": [
    {
     "name": "stdout",
     "output_type": "stream",
     "text": [
      "Accuracy score :  0.7757009345794392\n",
      "\n",
      "Cnofusion Matrix : \n",
      " [[  0   0   5]\n",
      " [  0 151  43]\n",
      " [  1  47 181]]\n",
      "\n",
      "Cohen_kappa:  0.5549682646275156\n",
      "\n",
      " classification_report: \n",
      "               precision    recall  f1-score   support\n",
      "\n",
      "           0       0.00      0.00      0.00         5\n",
      "           1       0.76      0.78      0.77       194\n",
      "           2       0.79      0.79      0.79       229\n",
      "\n",
      "    accuracy                           0.78       428\n",
      "   macro avg       0.52      0.52      0.52       428\n",
      "weighted avg       0.77      0.78      0.77       428\n",
      "\n"
     ]
    }
   ],
   "source": [
    "# ML for quality of wine RandomForestClassifier\n",
    "from sklearn.preprocessing import MinMaxScaler\n",
    "from sklearn.ensemble import RandomForestClassifier\n",
    "from sklearn.model_selection import train_test_split\n",
    "from sklearn.metrics import cohen_kappa_score, confusion_matrix, classification_report, accuracy_score\n",
    "x=red_wine.drop(columns=['quality', 'quality_label', 'pH','density','citric_acid'])\n",
    "y=red_wine['quality_label']\n",
    "x_train, x_test, y_train, y_test = train_test_split(x,y,test_size=0.3, random_state=0)\n",
    "scale=MinMaxScaler()\n",
    "x_train_n=scale.fit_transform(x_train)\n",
    "x_train_n=pd.DataFrame(x_train_n)\n",
    "x_test_n=scale.fit_transform(x_test)\n",
    "x_test_n=pd.DataFrame(x_test_n)\n",
    "model= RandomForestClassifier()\n",
    "model.fit(x_train_n,y_train)\n",
    "pred=model.predict(x_test_n)\n",
    "score=accuracy_score(y_test,pred)\n",
    "print('Accuracy score : ', score)\n",
    "print('\\nCnofusion Matrix : \\n', confusion_matrix(y_test,pred))\n",
    "print('\\nCohen_kappa: ', cohen_kappa_score(y_test,pred))\n",
    "print('\\n classification_report: \\n', classification_report(y_test, pred))"
   ]
  },
  {
   "cell_type": "code",
   "execution_count": 13,
   "metadata": {},
   "outputs": [
    {
     "name": "stdout",
     "output_type": "stream",
     "text": [
      "Accuracy score :  0.7546728971962616\n",
      "\n",
      "Cnofusion Matrix : \n",
      " [[  0   0   5]\n",
      " [  0 140  54]\n",
      " [  3  43 183]]\n",
      "\n",
      "Cohen_kappa:  0.5128402475907599\n",
      "\n",
      " classification_report: \n",
      "               precision    recall  f1-score   support\n",
      "\n",
      "           0       0.00      0.00      0.00         5\n",
      "           1       0.77      0.72      0.74       194\n",
      "           2       0.76      0.80      0.78       229\n",
      "\n",
      "    accuracy                           0.75       428\n",
      "   macro avg       0.51      0.51      0.51       428\n",
      "weighted avg       0.75      0.75      0.75       428\n",
      "\n"
     ]
    }
   ],
   "source": [
    "# ML for quality of wine LinearDiscriminantAnalysis\n",
    "from sklearn.preprocessing import MinMaxScaler\n",
    "from sklearn.discriminant_analysis import LinearDiscriminantAnalysis\n",
    "from sklearn.model_selection import train_test_split\n",
    "from sklearn.metrics import cohen_kappa_score, confusion_matrix, classification_report, accuracy_score\n",
    "x=red_wine.drop(columns=['quality', 'quality_label', 'pH','density','citric_acid'])\n",
    "y=red_wine['quality_label']\n",
    "x_train, x_test, y_train, y_test = train_test_split(x,y,test_size=0.3, random_state=0)\n",
    "scale=MinMaxScaler()\n",
    "x_train_n=scale.fit_transform(x_train)\n",
    "x_train_n=pd.DataFrame(x_train_n)\n",
    "x_test_n=scale.fit_transform(x_test)\n",
    "x_test_n=pd.DataFrame(x_test_n)\n",
    "model= LinearDiscriminantAnalysis()\n",
    "model.fit(x_train_n,y_train)\n",
    "pred=model.predict(x_test_n)\n",
    "score=accuracy_score(y_test,pred)\n",
    "print('Accuracy score : ', score)\n",
    "print('\\nCnofusion Matrix : \\n', confusion_matrix(y_test,pred))\n",
    "print('\\nCohen_kappa: ', cohen_kappa_score(y_test,pred))\n",
    "print('\\n classification_report: \\n', classification_report(y_test, pred))"
   ]
  },
  {
   "cell_type": "code",
   "execution_count": 14,
   "metadata": {},
   "outputs": [
    {
     "name": "stdout",
     "output_type": "stream",
     "text": [
      "Accuracy score :  0.7336448598130841\n",
      "\n",
      "Cnofusion Matrix : \n",
      " [[  1   0   4]\n",
      " [  0 144  50]\n",
      " [  6  54 169]]\n",
      "\n",
      "Cohen_kappa:  0.47910750507099387\n",
      "\n",
      " classification_report: \n",
      "               precision    recall  f1-score   support\n",
      "\n",
      "           0       0.14      0.20      0.17         5\n",
      "           1       0.73      0.74      0.73       194\n",
      "           2       0.76      0.74      0.75       229\n",
      "\n",
      "    accuracy                           0.73       428\n",
      "   macro avg       0.54      0.56      0.55       428\n",
      "weighted avg       0.74      0.73      0.74       428\n",
      "\n"
     ]
    }
   ],
   "source": [
    "# ML for quality of wine GaussianNB\n",
    "from sklearn.preprocessing import MinMaxScaler\n",
    "from sklearn.naive_bayes import GaussianNB\n",
    "from sklearn.model_selection import train_test_split\n",
    "from sklearn.metrics import cohen_kappa_score, confusion_matrix, classification_report, accuracy_score\n",
    "x=red_wine.drop(columns=['quality', 'quality_label', 'pH','density','citric_acid'])\n",
    "y=red_wine['quality_label']\n",
    "x_train, x_test, y_train, y_test = train_test_split(x,y,test_size=0.3, random_state=0)\n",
    "scale=MinMaxScaler()\n",
    "x_train_n=scale.fit_transform(x_train)\n",
    "x_train_n=pd.DataFrame(x_train_n)\n",
    "x_test_n=scale.fit_transform(x_test)\n",
    "x_test_n=pd.DataFrame(x_test_n)\n",
    "model= GaussianNB()\n",
    "model.fit(x_train_n,y_train)\n",
    "pred=model.predict(x_test_n)\n",
    "score=accuracy_score(y_test,pred)\n",
    "print('Accuracy score : ', score)\n",
    "print('\\nCnofusion Matrix : \\n', confusion_matrix(y_test,pred))\n",
    "print('\\nCohen_kappa: ', cohen_kappa_score(y_test,pred))\n",
    "print('\\n classification_report: \\n', classification_report(y_test, pred))\n",
    "importance="
   ]
  },
  {
   "cell_type": "code",
   "execution_count": 15,
   "metadata": {},
   "outputs": [
    {
     "name": "stdout",
     "output_type": "stream",
     "text": [
      "Accuracy score :  0.7266355140186916\n",
      "\n",
      "Cnofusion Matrix : \n",
      " [[  0   0   5]\n",
      " [  0 132  62]\n",
      " [  0  50 179]]\n",
      "\n",
      "Cohen_kappa:  0.4529724061086714\n",
      "\n",
      " classification_report: \n",
      "               precision    recall  f1-score   support\n",
      "\n",
      "           0       0.00      0.00      0.00         5\n",
      "           1       0.73      0.68      0.70       194\n",
      "           2       0.73      0.78      0.75       229\n",
      "\n",
      "    accuracy                           0.73       428\n",
      "   macro avg       0.48      0.49      0.49       428\n",
      "weighted avg       0.72      0.73      0.72       428\n",
      "\n"
     ]
    },
    {
     "name": "stderr",
     "output_type": "stream",
     "text": [
      "/Users/marziehbaes/opt/anaconda3/lib/python3.9/site-packages/sklearn/neighbors/_classification.py:228: FutureWarning: Unlike other reduction functions (e.g. `skew`, `kurtosis`), the default behavior of `mode` typically preserves the axis it acts along. In SciPy 1.11.0, this behavior will change: the default value of `keepdims` will become False, the `axis` over which the statistic is taken will be eliminated, and the value None will no longer be accepted. Set `keepdims` to True or False to avoid this warning.\n",
      "  mode, _ = stats.mode(_y[neigh_ind, k], axis=1)\n",
      "/Users/marziehbaes/opt/anaconda3/lib/python3.9/site-packages/sklearn/metrics/_classification.py:1318: UndefinedMetricWarning: Precision and F-score are ill-defined and being set to 0.0 in labels with no predicted samples. Use `zero_division` parameter to control this behavior.\n",
      "  _warn_prf(average, modifier, msg_start, len(result))\n",
      "/Users/marziehbaes/opt/anaconda3/lib/python3.9/site-packages/sklearn/metrics/_classification.py:1318: UndefinedMetricWarning: Precision and F-score are ill-defined and being set to 0.0 in labels with no predicted samples. Use `zero_division` parameter to control this behavior.\n",
      "  _warn_prf(average, modifier, msg_start, len(result))\n",
      "/Users/marziehbaes/opt/anaconda3/lib/python3.9/site-packages/sklearn/metrics/_classification.py:1318: UndefinedMetricWarning: Precision and F-score are ill-defined and being set to 0.0 in labels with no predicted samples. Use `zero_division` parameter to control this behavior.\n",
      "  _warn_prf(average, modifier, msg_start, len(result))\n"
     ]
    }
   ],
   "source": [
    "# ML for quality of wine KNeighborsClassifier\n",
    "from sklearn.preprocessing import MinMaxScaler\n",
    "from sklearn.neighbors import KNeighborsClassifier\n",
    "from sklearn.model_selection import train_test_split\n",
    "from sklearn.metrics import cohen_kappa_score, confusion_matrix, classification_report, accuracy_score\n",
    "x=red_wine.drop(columns=['quality', 'quality_label', 'pH','density','citric_acid'])\n",
    "y=red_wine['quality_label']\n",
    "x_train, x_test, y_train, y_test = train_test_split(x,y,test_size=0.3, random_state=0)\n",
    "scale=MinMaxScaler()\n",
    "x_train_n=scale.fit_transform(x_train)\n",
    "x_train_n=pd.DataFrame(x_train_n)\n",
    "x_test_n=scale.fit_transform(x_test)\n",
    "x_test_n=pd.DataFrame(x_test_n)\n",
    "model= KNeighborsClassifier()\n",
    "model.fit(x_train_n,y_train)\n",
    "pred=model.predict(x_test_n)\n",
    "score=accuracy_score(y_test,pred)\n",
    "print('Accuracy score : ', score)\n",
    "print('\\nCnofusion Matrix : \\n', confusion_matrix(y_test,pred))\n",
    "print('\\nCohen_kappa: ', cohen_kappa_score(y_test,pred))\n",
    "print('\\n classification_report: \\n', classification_report(y_test, pred))"
   ]
  },
  {
   "cell_type": "code",
   "execution_count": 16,
   "metadata": {},
   "outputs": [
    {
     "name": "stdout",
     "output_type": "stream",
     "text": [
      "Accuracy score :  0.7663551401869159\n",
      "\n",
      "Cnofusion Matrix : \n",
      " [[  0   0   5]\n",
      " [  0 152  42]\n",
      " [  0  53 176]]\n",
      "\n",
      "Cohen_kappa:  0.5365306940127995\n",
      "\n",
      " classification_report: \n",
      "               precision    recall  f1-score   support\n",
      "\n",
      "           0       0.00      0.00      0.00         5\n",
      "           1       0.74      0.78      0.76       194\n",
      "           2       0.79      0.77      0.78       229\n",
      "\n",
      "    accuracy                           0.77       428\n",
      "   macro avg       0.51      0.52      0.51       428\n",
      "weighted avg       0.76      0.77      0.76       428\n",
      "\n"
     ]
    },
    {
     "name": "stderr",
     "output_type": "stream",
     "text": [
      "/Users/marziehbaes/opt/anaconda3/lib/python3.9/site-packages/sklearn/metrics/_classification.py:1318: UndefinedMetricWarning: Precision and F-score are ill-defined and being set to 0.0 in labels with no predicted samples. Use `zero_division` parameter to control this behavior.\n",
      "  _warn_prf(average, modifier, msg_start, len(result))\n",
      "/Users/marziehbaes/opt/anaconda3/lib/python3.9/site-packages/sklearn/metrics/_classification.py:1318: UndefinedMetricWarning: Precision and F-score are ill-defined and being set to 0.0 in labels with no predicted samples. Use `zero_division` parameter to control this behavior.\n",
      "  _warn_prf(average, modifier, msg_start, len(result))\n",
      "/Users/marziehbaes/opt/anaconda3/lib/python3.9/site-packages/sklearn/metrics/_classification.py:1318: UndefinedMetricWarning: Precision and F-score are ill-defined and being set to 0.0 in labels with no predicted samples. Use `zero_division` parameter to control this behavior.\n",
      "  _warn_prf(average, modifier, msg_start, len(result))\n"
     ]
    }
   ],
   "source": [
    "# ML for quality of wine SVC\n",
    "from sklearn.preprocessing import MinMaxScaler\n",
    "from sklearn.svm import SVC\n",
    "from sklearn.model_selection import train_test_split\n",
    "from sklearn.metrics import cohen_kappa_score, confusion_matrix, classification_report, accuracy_score\n",
    "x=red_wine.drop(columns=['quality', 'quality_label', 'pH','density','citric_acid'])\n",
    "y=red_wine['quality_label']\n",
    "x_train, x_test, y_train, y_test = train_test_split(x,y,test_size=0.3, random_state=0)\n",
    "scale=MinMaxScaler()\n",
    "x_train_n=scale.fit_transform(x_train)\n",
    "x_train_n=pd.DataFrame(x_train_n)\n",
    "x_test_n=scale.fit_transform(x_test)\n",
    "x_test_n=pd.DataFrame(x_test_n)\n",
    "model= SVC()\n",
    "model.fit(x_train_n,y_train)\n",
    "pred=model.predict(x_test_n)\n",
    "score=accuracy_score(y_test,pred)\n",
    "print('Accuracy score : ', score)\n",
    "print('\\nCnofusion Matrix : \\n', confusion_matrix(y_test,pred))\n",
    "print('\\nCohen_kappa: ', cohen_kappa_score(y_test,pred))\n",
    "print('\\n classification_report: \\n', classification_report(y_test, pred))"
   ]
  },
  {
   "cell_type": "code",
   "execution_count": 17,
   "metadata": {},
   "outputs": [
    {
     "name": "stdout",
     "output_type": "stream",
     "text": [
      "Accuracy score :  0.7313084112149533\n",
      "\n",
      "Cnofusion Matrix : \n",
      " [[  2   0   3]\n",
      " [  0 164  30]\n",
      " [  5  77 147]]\n",
      "\n",
      "Cohen_kappa:  0.48284738639348557\n",
      "\n",
      " classification_report: \n",
      "               precision    recall  f1-score   support\n",
      "\n",
      "           0       0.29      0.40      0.33         5\n",
      "           1       0.68      0.85      0.75       194\n",
      "           2       0.82      0.64      0.72       229\n",
      "\n",
      "    accuracy                           0.73       428\n",
      "   macro avg       0.59      0.63      0.60       428\n",
      "weighted avg       0.75      0.73      0.73       428\n",
      "\n"
     ]
    }
   ],
   "source": [
    "# ML for quality of wine AdaBoostClassifier\n",
    "from sklearn.preprocessing import MinMaxScaler\n",
    "from sklearn.ensemble import AdaBoostClassifier\n",
    "from sklearn.model_selection import train_test_split\n",
    "from sklearn.metrics import cohen_kappa_score, confusion_matrix, classification_report, accuracy_score\n",
    "x=red_wine.drop(columns=['quality', 'quality_label', 'pH','density','citric_acid'])\n",
    "y=red_wine['quality_label']\n",
    "x_train, x_test, y_train, y_test = train_test_split(x,y,test_size=0.3, random_state=0)\n",
    "scale=MinMaxScaler()\n",
    "x_train_n=scale.fit_transform(x_train)\n",
    "x_train_n=pd.DataFrame(x_train_n)\n",
    "x_test_n=scale.fit_transform(x_test)\n",
    "x_test_n=pd.DataFrame(x_test_n)\n",
    "model= AdaBoostClassifier()\n",
    "model.fit(x_train_n,y_train)\n",
    "pred=model.predict(x_test_n)\n",
    "score=accuracy_score(y_test,pred)\n",
    "print('Accuracy score : ', score)\n",
    "print('\\nCnofusion Matrix : \\n', confusion_matrix(y_test,pred))\n",
    "print('\\nCohen_kappa: ', cohen_kappa_score(y_test,pred))\n",
    "print('\\n classification_report: \\n', classification_report(y_test, pred))"
   ]
  }
 ],
 "metadata": {
  "kernelspec": {
   "display_name": "Python 3",
   "language": "python",
   "name": "python3"
  },
  "language_info": {
   "codemirror_mode": {
    "name": "ipython",
    "version": 3
   },
   "file_extension": ".py",
   "mimetype": "text/x-python",
   "name": "python",
   "nbconvert_exporter": "python",
   "pygments_lexer": "ipython3",
   "version": "3.9.13 (main, Aug 25 2022, 18:29:29) \n[Clang 12.0.0 ]"
  },
  "orig_nbformat": 4,
  "vscode": {
   "interpreter": {
    "hash": "2918784d2acf282f2c1eeb3293c1f68c9e526abdf8983671e7e8ea84935e28a6"
   }
  }
 },
 "nbformat": 4,
 "nbformat_minor": 2
}
