{
 "cells": [
  {
   "cell_type": "code",
   "execution_count": 45,
   "metadata": {},
   "outputs": [
    {
     "name": "stdout",
     "output_type": "stream",
     "text": [
      "(1, 2)\n"
     ]
    }
   ],
   "source": [
    "#Given an array of integers nums and an integer target, return indices of the two numbers such that they add up to target.\n",
    "import numpy as np\n",
    "\n",
    "def sum_function(l1,n):\n",
    "    g=[]\n",
    "    for i , j in enumerate(l1):\n",
    "        dif=n-j\n",
    "        for k,l in enumerate(l1):\n",
    "            if (l == dif) & (k != i):\n",
    "                g.append((i,k))\n",
    "    return g[0]\n",
    "\n",
    "\n",
    "l1=[3,2,4] \n",
    "n=6\n",
    "output=sum_function(l1,n)\n",
    "print(output)"
   ]
  },
  {
   "cell_type": "code",
   "execution_count": 39,
   "metadata": {},
   "outputs": [
    {
     "name": "stdout",
     "output_type": "stream",
     "text": [
      "[7, 0, 8]\n"
     ]
    }
   ],
   "source": [
    "#You are given two non-empty linked lists representing two non-negative integers. The digits are stored \n",
    "#in reverse order, and each of their nodes contains a single digit. Add the two numbers and return the sum as a linked list.\n",
    "def sum_list(l1,l2):\n",
    "    sum_l1=0\n",
    "    sum_l2=0\n",
    "    for i in range(len(l1)):\n",
    "        sum_l1+= l2[i]*10**(len(l1)-1-i)\n",
    "        sum_l2+= l1[i]*10**(len(l1)-1-i)\n",
    "    sum=sum_l1+sum_l2\n",
    "    sum_l=[]\n",
    "    for j in str(sum):\n",
    "        sum_l.append(int(j))\n",
    "\n",
    "    return sum_l[::-1]\n",
    "\n",
    "l1=[2,4,3]\n",
    "l2=[5,6,4]\n",
    "print(sum_list(l1,l2))\n"
   ]
  },
  {
   "cell_type": "code",
   "execution_count": 68,
   "metadata": {},
   "outputs": [
    {
     "name": "stdout",
     "output_type": "stream",
     "text": [
      "2\n"
     ]
    }
   ],
   "source": [
    "#Given a string s, find the length of the longest substring without repeating characters.\n",
    "s = \"pwwww\"\n",
    "def lengthOfLongestSubstring(s):\n",
    "        maxLen = 1\n",
    "        if s == '':\n",
    "            return 0                      # Dealing with one edge case\n",
    "        for i in range(len(s)):\n",
    "            substring = s[i]              # Initialising the substring\n",
    "            for j in range(i+1, len(s)):  # Starting to append characters to substring from i+1\n",
    "                if s[j] not in substring: # As long as its not repeating. \"not in\" can be used to check if the character isn't already there in the substring\n",
    "                    substring = substring + s[j]\n",
    "                    maxLen = max(maxLen, len(substring)) # Updating maxLen if it is greater than the existing maxLen\n",
    "                else:\n",
    "                    break\n",
    "        return maxLen\n",
    "\n",
    "\n",
    "\n",
    "print(lengthOfLongestSubstring(s))\n",
    "\n"
   ]
  },
  {
   "cell_type": "code",
   "execution_count": 95,
   "metadata": {},
   "outputs": [
    {
     "name": "stdout",
     "output_type": "stream",
     "text": [
      "4\n"
     ]
    }
   ],
   "source": [
    "s = \"abcbcad\"\n",
    "max_s=1\n",
    "for i in range(len(s)):\n",
    "        sub=s[i]\n",
    "        for j in range(i+1, len(s)):\n",
    "            if s[j] not in sub:\n",
    "                sub+= s[j]\n",
    "                max_s=max(max_s, len(sub))\n",
    "            else:\n",
    "                break\n",
    "\n",
    "print(max_s)\n",
    "            \n"
   ]
  },
  {
   "cell_type": "code",
   "execution_count": 84,
   "metadata": {},
   "outputs": [
    {
     "name": "stdout",
     "output_type": "stream",
     "text": [
      "2.5\n"
     ]
    }
   ],
   "source": [
    "#Given two sorted arrays nums1 and nums2 of size m and n respectively, return the median of the two sorted arrays.\n",
    "l1=[1,2]\n",
    "l2=[3,4]\n",
    "def find_median(l1,l2):\n",
    "    return np.median(l1+l2)\n",
    "\n",
    "\n",
    "print(find_median(l1,l2))"
   ]
  },
  {
   "cell_type": "code",
   "execution_count": 106,
   "metadata": {},
   "outputs": [
    {
     "data": {
      "text/plain": [
       "'a'"
      ]
     },
     "execution_count": 106,
     "metadata": {},
     "output_type": "execute_result"
    }
   ],
   "source": [
    "s[3]"
   ]
  },
  {
   "cell_type": "code",
   "execution_count": 150,
   "metadata": {},
   "outputs": [
    {
     "name": "stdout",
     "output_type": "stream",
     "text": [
      "aba\n"
     ]
    }
   ],
   "source": [
    "#Given a string s, return the longest palindromic substring in s.\n",
    "s='babad'\n",
    "ss=''\n",
    "for i in range(1,len(s)-1):\n",
    "    if i < len(s)-2:\n",
    "        if (s[i] == s[i+2]):\n",
    "            ss += s[i] + s[i+1] + s[i+2]\n",
    "    elif (s[i] == s[i+1]):\n",
    "        ss += s[i] + s[i+1] \n",
    "\n",
    "\n",
    "         \n",
    "\n",
    "print(ss)"
   ]
  },
  {
   "cell_type": "code",
   "execution_count": 190,
   "metadata": {},
   "outputs": [
    {
     "data": {
      "text/plain": [
       "'red'"
      ]
     },
     "execution_count": 190,
     "metadata": {},
     "output_type": "execute_result"
    }
   ],
   "source": [
    "colors=['red','blue']\n",
    "d=np.vectorize(lambda x: colors(x % len(colors)))\n",
    "colors[0] "
   ]
  },
  {
   "cell_type": "code",
   "execution_count": 178,
   "metadata": {},
   "outputs": [
    {
     "data": {
      "text/plain": [
       "'abbbj'"
      ]
     },
     "execution_count": 178,
     "metadata": {},
     "output_type": "execute_result"
    }
   ],
   "source": [
    "s='abbb'\n",
    "s+ 'j'"
   ]
  },
  {
   "cell_type": "code",
   "execution_count": 175,
   "metadata": {},
   "outputs": [
    {
     "data": {
      "text/plain": [
       "6"
      ]
     },
     "execution_count": 175,
     "metadata": {},
     "output_type": "execute_result"
    }
   ],
   "source": [
    "sum=np.zeros((3,2))\n",
    "out=[[1,2,3],[6,5,7]]\n",
    "out=np.array(out)\n",
    "np.sum(out[0])\n",
    "\n"
   ]
  },
  {
   "cell_type": "code",
   "execution_count": 151,
   "metadata": {},
   "outputs": [
    {
     "name": "stdout",
     "output_type": "stream",
     "text": [
      "3986\n",
      "4000\n",
      "100\n"
     ]
    }
   ],
   "source": [
    "class py_solution:\n",
    "    def roman_to_int(self, s):\n",
    "        rom_val = {'I': 1, 'V': 5, 'X': 10, 'L': 50, 'C': 100, 'D': 500, 'M': 1000}\n",
    "        int_val = 0\n",
    "        for i in range(len(s)):\n",
    "            if i > 0 and rom_val[s[i]] > rom_val[s[i - 1]]:\n",
    "                int_val += rom_val[s[i]] - 2 * rom_val[s[i - 1]]\n",
    "            else:\n",
    "                int_val += rom_val[s[i]]\n",
    "        return int_val\n",
    "\n",
    "print(py_solution().roman_to_int('MMMCMLXXXVI'))\n",
    "print(py_solution().roman_to_int('MMMM'))\n",
    "print(py_solution().roman_to_int('C'))"
   ]
  }
 ],
 "metadata": {
  "kernelspec": {
   "display_name": "Python 3",
   "language": "python",
   "name": "python3"
  },
  "language_info": {
   "codemirror_mode": {
    "name": "ipython",
    "version": 3
   },
   "file_extension": ".py",
   "mimetype": "text/x-python",
   "name": "python",
   "nbconvert_exporter": "python",
   "pygments_lexer": "ipython3",
   "version": "3.9.13"
  },
  "orig_nbformat": 4,
  "vscode": {
   "interpreter": {
    "hash": "2918784d2acf282f2c1eeb3293c1f68c9e526abdf8983671e7e8ea84935e28a6"
   }
  }
 },
 "nbformat": 4,
 "nbformat_minor": 2
}
