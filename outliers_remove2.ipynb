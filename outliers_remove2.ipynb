{
 "cells": [
  {
   "cell_type": "code",
   "execution_count": 66,
   "metadata": {},
   "outputs": [],
   "source": [
    "import numpy as np\n",
    "import pandas as pd\n",
    "import seaborn as sns\n",
    "import matplotlib.pyplot as plt\n",
    "white_wine=pd.read_csv('winequality-white.csv', sep=';')\n",
    "red_wine=pd.read_csv('winequality-red.csv',sep=';')\n",
    "white_wine=white_wine.drop_duplicates()\n",
    "red_wine=red_wine.drop_duplicates()"
   ]
  },
  {
   "cell_type": "code",
   "execution_count": 67,
   "metadata": {},
   "outputs": [
    {
     "ename": "KeyError",
     "evalue": "0",
     "output_type": "error",
     "traceback": [
      "\u001b[0;31m---------------------------------------------------------------------------\u001b[0m",
      "\u001b[0;31mKeyError\u001b[0m                                  Traceback (most recent call last)",
      "\u001b[0;32m~/opt/anaconda3/lib/python3.9/site-packages/pandas/core/indexes/base.py\u001b[0m in \u001b[0;36mget_loc\u001b[0;34m(self, key, method, tolerance)\u001b[0m\n\u001b[1;32m   3628\u001b[0m             \u001b[0;32mtry\u001b[0m\u001b[0;34m:\u001b[0m\u001b[0;34m\u001b[0m\u001b[0;34m\u001b[0m\u001b[0m\n\u001b[0;32m-> 3629\u001b[0;31m                 \u001b[0;32mreturn\u001b[0m \u001b[0mself\u001b[0m\u001b[0;34m.\u001b[0m\u001b[0m_engine\u001b[0m\u001b[0;34m.\u001b[0m\u001b[0mget_loc\u001b[0m\u001b[0;34m(\u001b[0m\u001b[0mcasted_key\u001b[0m\u001b[0;34m)\u001b[0m\u001b[0;34m\u001b[0m\u001b[0;34m\u001b[0m\u001b[0m\n\u001b[0m\u001b[1;32m   3630\u001b[0m             \u001b[0;32mexcept\u001b[0m \u001b[0mKeyError\u001b[0m \u001b[0;32mas\u001b[0m \u001b[0merr\u001b[0m\u001b[0;34m:\u001b[0m\u001b[0;34m\u001b[0m\u001b[0;34m\u001b[0m\u001b[0m\n",
      "\u001b[0;32m~/opt/anaconda3/lib/python3.9/site-packages/pandas/_libs/index.pyx\u001b[0m in \u001b[0;36mpandas._libs.index.IndexEngine.get_loc\u001b[0;34m()\u001b[0m\n",
      "\u001b[0;32m~/opt/anaconda3/lib/python3.9/site-packages/pandas/_libs/index.pyx\u001b[0m in \u001b[0;36mpandas._libs.index.IndexEngine.get_loc\u001b[0;34m()\u001b[0m\n",
      "\u001b[0;32mpandas/_libs/hashtable_class_helper.pxi\u001b[0m in \u001b[0;36mpandas._libs.hashtable.PyObjectHashTable.get_item\u001b[0;34m()\u001b[0m\n",
      "\u001b[0;32mpandas/_libs/hashtable_class_helper.pxi\u001b[0m in \u001b[0;36mpandas._libs.hashtable.PyObjectHashTable.get_item\u001b[0;34m()\u001b[0m\n",
      "\u001b[0;31mKeyError\u001b[0m: 0",
      "\nThe above exception was the direct cause of the following exception:\n",
      "\u001b[0;31mKeyError\u001b[0m                                  Traceback (most recent call last)",
      "\u001b[0;32m/var/folders/nm/btrww2_94pncl34mb0yt49j80000gn/T/ipykernel_62659/1954773867.py\u001b[0m in \u001b[0;36m<module>\u001b[0;34m\u001b[0m\n\u001b[1;32m     15\u001b[0m \u001b[0;34m\u001b[0m\u001b[0m\n\u001b[1;32m     16\u001b[0m \u001b[0;34m\u001b[0m\u001b[0m\n\u001b[0;32m---> 17\u001b[0;31m \u001b[0mdf_r\u001b[0m\u001b[0;34m=\u001b[0m \u001b[0moutliers_idr\u001b[0m\u001b[0;34m(\u001b[0m\u001b[0mred_wine\u001b[0m\u001b[0;34m)\u001b[0m\u001b[0;34m\u001b[0m\u001b[0;34m\u001b[0m\u001b[0m\n\u001b[0m\u001b[1;32m     18\u001b[0m \u001b[0;34m\u001b[0m\u001b[0m\n\u001b[1;32m     19\u001b[0m \u001b[0mwhite_wine\u001b[0m\u001b[0;34m[\u001b[0m\u001b[0;34m'fixed acidity'\u001b[0m\u001b[0;34m]\u001b[0m\u001b[0;34m.\u001b[0m\u001b[0mstd\u001b[0m\u001b[0;34m(\u001b[0m\u001b[0;34m)\u001b[0m\u001b[0;34m\u001b[0m\u001b[0;34m\u001b[0m\u001b[0m\n",
      "\u001b[0;32m/var/folders/nm/btrww2_94pncl34mb0yt49j80000gn/T/ipykernel_62659/1954773867.py\u001b[0m in \u001b[0;36moutliers_idr\u001b[0;34m(df)\u001b[0m\n\u001b[1;32m      7\u001b[0m     \u001b[0;32mfor\u001b[0m \u001b[0mcolumn\u001b[0m \u001b[0;32min\u001b[0m \u001b[0mdf\u001b[0m\u001b[0;34m:\u001b[0m\u001b[0;34m\u001b[0m\u001b[0;34m\u001b[0m\u001b[0m\n\u001b[1;32m      8\u001b[0m \u001b[0;34m\u001b[0m\u001b[0m\n\u001b[0;32m----> 9\u001b[0;31m         \u001b[0mmean_df\u001b[0m\u001b[0;34m=\u001b[0m\u001b[0mdf\u001b[0m\u001b[0;34m[\u001b[0m\u001b[0mi\u001b[0m\u001b[0;34m]\u001b[0m\u001b[0;34m.\u001b[0m\u001b[0mmean\u001b[0m\u001b[0;34m(\u001b[0m\u001b[0;34m)\u001b[0m\u001b[0;34m\u001b[0m\u001b[0;34m\u001b[0m\u001b[0m\n\u001b[0m\u001b[1;32m     10\u001b[0m         \u001b[0mstd_df\u001b[0m\u001b[0;34m=\u001b[0m\u001b[0mdf\u001b[0m\u001b[0;34m[\u001b[0m\u001b[0mi\u001b[0m\u001b[0;34m]\u001b[0m\u001b[0;34m.\u001b[0m\u001b[0mstd\u001b[0m\u001b[0;34m(\u001b[0m\u001b[0;34m)\u001b[0m\u001b[0;34m\u001b[0m\u001b[0;34m\u001b[0m\u001b[0m\n\u001b[1;32m     11\u001b[0m         \u001b[0mprint\u001b[0m\u001b[0;34m(\u001b[0m\u001b[0mmean_df\u001b[0m\u001b[0;34m)\u001b[0m\u001b[0;34m\u001b[0m\u001b[0;34m\u001b[0m\u001b[0m\n",
      "\u001b[0;32m~/opt/anaconda3/lib/python3.9/site-packages/pandas/core/frame.py\u001b[0m in \u001b[0;36m__getitem__\u001b[0;34m(self, key)\u001b[0m\n\u001b[1;32m   3503\u001b[0m             \u001b[0;32mif\u001b[0m \u001b[0mself\u001b[0m\u001b[0;34m.\u001b[0m\u001b[0mcolumns\u001b[0m\u001b[0;34m.\u001b[0m\u001b[0mnlevels\u001b[0m \u001b[0;34m>\u001b[0m \u001b[0;36m1\u001b[0m\u001b[0;34m:\u001b[0m\u001b[0;34m\u001b[0m\u001b[0;34m\u001b[0m\u001b[0m\n\u001b[1;32m   3504\u001b[0m                 \u001b[0;32mreturn\u001b[0m \u001b[0mself\u001b[0m\u001b[0;34m.\u001b[0m\u001b[0m_getitem_multilevel\u001b[0m\u001b[0;34m(\u001b[0m\u001b[0mkey\u001b[0m\u001b[0;34m)\u001b[0m\u001b[0;34m\u001b[0m\u001b[0;34m\u001b[0m\u001b[0m\n\u001b[0;32m-> 3505\u001b[0;31m             \u001b[0mindexer\u001b[0m \u001b[0;34m=\u001b[0m \u001b[0mself\u001b[0m\u001b[0;34m.\u001b[0m\u001b[0mcolumns\u001b[0m\u001b[0;34m.\u001b[0m\u001b[0mget_loc\u001b[0m\u001b[0;34m(\u001b[0m\u001b[0mkey\u001b[0m\u001b[0;34m)\u001b[0m\u001b[0;34m\u001b[0m\u001b[0;34m\u001b[0m\u001b[0m\n\u001b[0m\u001b[1;32m   3506\u001b[0m             \u001b[0;32mif\u001b[0m \u001b[0mis_integer\u001b[0m\u001b[0;34m(\u001b[0m\u001b[0mindexer\u001b[0m\u001b[0;34m)\u001b[0m\u001b[0;34m:\u001b[0m\u001b[0;34m\u001b[0m\u001b[0;34m\u001b[0m\u001b[0m\n\u001b[1;32m   3507\u001b[0m                 \u001b[0mindexer\u001b[0m \u001b[0;34m=\u001b[0m \u001b[0;34m[\u001b[0m\u001b[0mindexer\u001b[0m\u001b[0;34m]\u001b[0m\u001b[0;34m\u001b[0m\u001b[0;34m\u001b[0m\u001b[0m\n",
      "\u001b[0;32m~/opt/anaconda3/lib/python3.9/site-packages/pandas/core/indexes/base.py\u001b[0m in \u001b[0;36mget_loc\u001b[0;34m(self, key, method, tolerance)\u001b[0m\n\u001b[1;32m   3629\u001b[0m                 \u001b[0;32mreturn\u001b[0m \u001b[0mself\u001b[0m\u001b[0;34m.\u001b[0m\u001b[0m_engine\u001b[0m\u001b[0;34m.\u001b[0m\u001b[0mget_loc\u001b[0m\u001b[0;34m(\u001b[0m\u001b[0mcasted_key\u001b[0m\u001b[0;34m)\u001b[0m\u001b[0;34m\u001b[0m\u001b[0;34m\u001b[0m\u001b[0m\n\u001b[1;32m   3630\u001b[0m             \u001b[0;32mexcept\u001b[0m \u001b[0mKeyError\u001b[0m \u001b[0;32mas\u001b[0m \u001b[0merr\u001b[0m\u001b[0;34m:\u001b[0m\u001b[0;34m\u001b[0m\u001b[0;34m\u001b[0m\u001b[0m\n\u001b[0;32m-> 3631\u001b[0;31m                 \u001b[0;32mraise\u001b[0m \u001b[0mKeyError\u001b[0m\u001b[0;34m(\u001b[0m\u001b[0mkey\u001b[0m\u001b[0;34m)\u001b[0m \u001b[0;32mfrom\u001b[0m \u001b[0merr\u001b[0m\u001b[0;34m\u001b[0m\u001b[0;34m\u001b[0m\u001b[0m\n\u001b[0m\u001b[1;32m   3632\u001b[0m             \u001b[0;32mexcept\u001b[0m \u001b[0mTypeError\u001b[0m\u001b[0;34m:\u001b[0m\u001b[0;34m\u001b[0m\u001b[0;34m\u001b[0m\u001b[0m\n\u001b[1;32m   3633\u001b[0m                 \u001b[0;31m# If we have a listlike key, _check_indexing_error will raise\u001b[0m\u001b[0;34m\u001b[0m\u001b[0;34m\u001b[0m\u001b[0m\n",
      "\u001b[0;31mKeyError\u001b[0m: 0"
     ]
    }
   ],
   "source": [
    "def outliers_idr(df):\n",
    "    \n",
    "    num=df.count(axis=1)\n",
    "    num_col=num[1]\n",
    "    \n",
    "    i=0\n",
    "    for column in df:\n",
    "\n",
    "        mean_df=df[i].mean()\n",
    "        std_df=df[i].std()\n",
    "        print(mean_df)\n",
    "        \n",
    "    return df_out\n",
    "\n",
    "\n",
    "\n",
    "df_r= outliers_idr(red_wine)\n",
    "\n",
    "white_wine['fixed acidity'].std()\n",
    "\n"
   ]
  },
  {
   "cell_type": "code",
   "execution_count": null,
   "metadata": {},
   "outputs": [],
   "source": []
  },
  {
   "cell_type": "code",
   "execution_count": null,
   "metadata": {},
   "outputs": [],
   "source": []
  },
  {
   "cell_type": "code",
   "execution_count": null,
   "metadata": {},
   "outputs": [],
   "source": [
    "df_w=outliers_idr(white_wine)\n",
    "white_wine.info()\n",
    "df_w.info()"
   ]
  },
  {
   "cell_type": "code",
   "execution_count": null,
   "metadata": {},
   "outputs": [],
   "source": [
    "# removing outlier using zscore:\n",
    "# in this method abs(z_score) = abs((y - mean_1)/std_1 ) is higher than 3. That means that only data \n",
    "# (-3*std, 3*std) are considered (99% confidence interval)\n",
    "from scipy import stats\n",
    "white_wine[(np.abs(stats.zscore(white_wine)) < 3).all(axis=1)]\n"
   ]
  },
  {
   "cell_type": "code",
   "execution_count": null,
   "metadata": {},
   "outputs": [],
   "source": [
    "total_wine=df_r.append(df_w)\n",
    "total_wine['quality_lable']=total_wine['quality'].apply(lambda x : 'low' if x <= 5 else 'medium' if x <= 7 else 'high')\n",
    "total_wine['quality_lable']=pd.Categorical(total_wine['quality_lable'], categories=['low', 'medium', 'high'])\n",
    "fig = plt.figure()\n",
    "st = fig.suptitle(\"Quality analysis of wines\", fontsize=\"x-large\")\n",
    "\n",
    "\n",
    "ax1=plt.subplot2grid((1,2),(0,0))\n",
    "\n",
    "sns.boxplot(x='quality_lable', y='alcohol', data=total_wine).set(xlabel='Wine quality class',\n",
    "ylabel='Wine alcohol %')\n",
    "ax2=plt.subplot2grid((1,2),(0,1))\n",
    "\n",
    "sns.boxplot(x='quality_lable', y='pH', data=total_wine). set(xlabel='Wine quality class',\n",
    "ylabel='Wine pH')\n",
    "\n",
    "# controls the space between subplots\n",
    "fig.tight_layout(pad=2.0)"
   ]
  },
  {
   "cell_type": "code",
   "execution_count": null,
   "metadata": {},
   "outputs": [],
   "source": [
    "fig=plt.figure()\n",
    "str=plt.suptitle('Analysis of residual sugar in wines')\n",
    "ax1=plt.subplot2grid((1,2),(0,0))\n",
    "sns.histplot(red_wine['residual sugar'],bins=20, color='red', edgecolor= 'black', linewidth=1.0)\n",
    "ax2=plt.subplot2grid((1,2),(0,1))\n",
    "\n",
    "sns.histplot(white_wine['residual sugar'], bins=20,color='white', edgecolor='black', linewidth=1.0)\n",
    "plt.ylim(0,900)\n",
    "fig.tight_layout(pad=2)"
   ]
  },
  {
   "cell_type": "code",
   "execution_count": null,
   "metadata": {},
   "outputs": [],
   "source": [
    "fig=plt.figure()\n",
    "str=plt.suptitle('Analysis of residual sugar in wines')\n",
    "ax1=plt.subplot2grid((1,2),(0,0))\n",
    "sns.histplot(df_r['residual sugar'],bins=20, color='red', edgecolor= 'black', linewidth=1.0)\n",
    "ax2=plt.subplot2grid((1,2),(0,1))\n",
    "\n",
    "sns.histplot(df_w['residual sugar'], bins=20,color='white', edgecolor='black', linewidth=1.0)\n",
    "plt.ylim(0,900)\n",
    "fig.tight_layout(pad=2)"
   ]
  },
  {
   "cell_type": "code",
   "execution_count": null,
   "metadata": {},
   "outputs": [],
   "source": [
    "white_wine=white_wine.drop_duplicates()\n",
    "Q1_w = white_wine['fixed acidity'].quantile(0.25)\n",
    "Q3_w = white_wine['fixed acidity'].quantile(0.75)\n",
    "IQR_w=Q3_w-Q1_w\n",
    "print(IQR_w)\n",
    "white_wine_without_outliers= white_wine[(white_wine['fixed acidity'] <= (Q3_w+(IQR_w*1.5))) & \n",
    "(white_wine['fixed acidity'] >= (Q1_w-(IQR_w*1.5))) ]\n",
    "white_wine_without_outliers\n",
    "red_wine=red_wine.drop_duplicates()\n",
    "Q1_r = red_wine['fixed acidity'].quantile(0.25)\n",
    "Q3_r = red_wine['fixed acidity'].quantile(0.75)\n",
    "IQR_r=Q3_r-Q1_r\n",
    "\n",
    "red_wine_without_outliers= red_wine[(red_wine['fixed acidity'] <= (Q3_r+(IQR_r*1.5))) & \n",
    "(red_wine['fixed acidity'] >= (Q1_r-(IQR_r*1.5))) ]\n",
    "red_wine_without_outliers.info()"
   ]
  },
  {
   "cell_type": "code",
   "execution_count": null,
   "metadata": {},
   "outputs": [],
   "source": [
    "df_r.info()\n",
    "red_wine.info()"
   ]
  },
  {
   "cell_type": "code",
   "execution_count": null,
   "metadata": {},
   "outputs": [],
   "source": [
    "z=np.zeros((1,5))\n",
    "z.shape\n",
    "z[0,1]=2\n",
    "z"
   ]
  },
  {
   "cell_type": "code",
   "execution_count": null,
   "metadata": {},
   "outputs": [],
   "source": [
    "red_wine['quality_lable']=red_wine['quality'].apply(lambda x : 'low' if x <= 5 else 'medium' if x <= 7 else 'high')\n",
    "# here we are transforming these labels into categrical data type (specific to pandas) instead of simple st\n",
    "red_wine['quality_lable']=pd.Categorical(red_wine['quality_lable'], categories=['low', 'medium', 'high'])\n",
    "sns.barplot( red_wine['quality_lable'].value_counts().index, red_wine['quality_lable'].value_counts())\n"
   ]
  },
  {
   "cell_type": "code",
   "execution_count": null,
   "metadata": {},
   "outputs": [],
   "source": [
    "df_r['quality_lable']=df_r['quality'].apply(lambda x : 'low' if x <= 5 else 'medium' if x <= 7 else 'high')\n",
    "# here we are transforming these labels into categrical data type (specific to pandas) instead of simple st\n",
    "df_r['quality_lable']=pd.Categorical(df_r['quality_lable'], categories=['low', 'medium', 'high'])\n",
    "sns.barplot( df_r['quality_lable'].value_counts().index, df_r['quality_lable'].value_counts())\n",
    "df_r[df_r['quality_lable']== 'high']\n"
   ]
  },
  {
   "cell_type": "code",
   "execution_count": null,
   "metadata": {},
   "outputs": [],
   "source": [
    "df_w['quality_lable']=df_w['quality'].apply(lambda x : 'low' if x <= 5 else 'medium' if x <= 7 else 'high')\n",
    "# here we are transforming these labels into categrical data type (specific to pandas) instead of simple st\n",
    "df_w['quality_lable']=pd.Categorical(df_w['quality_lable'], categories=['low', 'medium', 'high'])\n",
    "sns.barplot( df_w['quality_lable'].value_counts().index, df_w['quality_lable'].value_counts())\n",
    "df_w[df_w['quality_lable']== 'high']"
   ]
  },
  {
   "cell_type": "code",
   "execution_count": null,
   "metadata": {},
   "outputs": [],
   "source": [
    "fig=plt.figure(figsize=(12,8))\n",
    "corr_r=df_r.corr()\n",
    "mask=np.triu(np.ones_like(corr_r,dtype=bool))\n",
    "sns.heatmap(corr_r, mask=mask, cmap='Spectral', annot= True)"
   ]
  },
  {
   "cell_type": "code",
   "execution_count": null,
   "metadata": {},
   "outputs": [],
   "source": [
    "grouped=df_r.groupby('pH')\n",
    "df_g1=grouped['fixed acidity'].agg(np.mean).reset_index()\n",
    "sns.lineplot(x='pH', y='fixed acidity', data=df_g1)\n",
    "sns.regplot(x='pH', y='fixed acidity', data=df_g1)"
   ]
  },
  {
   "cell_type": "code",
   "execution_count": null,
   "metadata": {},
   "outputs": [],
   "source": [
    "grouped=df_r.groupby('chlorides')\n",
    "df_g1=grouped['citric acid'].agg(np.mean).reset_index()\n",
    "sns.lineplot(x='chlorides', y='citric acid', data=df_g1)\n",
    "sns.regplot(x='chlorides', y='citric acid', data=df_g1)"
   ]
  },
  {
   "cell_type": "code",
   "execution_count": null,
   "metadata": {},
   "outputs": [],
   "source": [
    "sns.lineplot(x='chlorides', y='citric acid', data=df_r)\n",
    "sns.regplot(x='chlorides', y='citric acid', data=df_r, scatter=False)"
   ]
  },
  {
   "cell_type": "code",
   "execution_count": null,
   "metadata": {},
   "outputs": [],
   "source": [
    "grouped=df_r.groupby('free sulfur dioxide')\n",
    "df_g1=grouped['volatile acidity'].agg(np.mean).reset_index()\n",
    "sns.lineplot(x='free sulfur dioxide', y='volatile acidity', data=df_g1)\n",
    "sns.regplot(x='free sulfur dioxide', y='volatile acidity', data=df_g1)"
   ]
  },
  {
   "cell_type": "code",
   "execution_count": null,
   "metadata": {},
   "outputs": [],
   "source": [
    "grouped=df_r.groupby('quality')\n",
    "df_g1=grouped['alcohol'].agg(np.mean).reset_index()\n",
    "sns.lineplot(x='quality', y='alcohol', data=df_g1)\n",
    "sns.regplot(x='quality', y='alcohol', data=df_g1)"
   ]
  },
  {
   "cell_type": "code",
   "execution_count": null,
   "metadata": {},
   "outputs": [],
   "source": [
    "sns.lineplot(x='quality', y='alcohol', data=df_r, err_style='bars',ci=95)\n",
    "sns.regplot(x='quality', y='alcohol', data=df_g1)"
   ]
  },
  {
   "cell_type": "code",
   "execution_count": null,
   "metadata": {},
   "outputs": [],
   "source": [
    "sns.scatterplot(x='alcohol', y='sulphates', data=df_r, hue='quality_lable')"
   ]
  },
  {
   "cell_type": "code",
   "execution_count": null,
   "metadata": {},
   "outputs": [],
   "source": [
    "ax=sns.lineplot(x='alcohol', y='sulphates', data=df_r)\n",
    "\n",
    "sns.regplot(x='alcohol', y='sulphates', data=df_r, scatter_kws={\"color\": \"black\"})"
   ]
  },
  {
   "cell_type": "code",
   "execution_count": null,
   "metadata": {},
   "outputs": [],
   "source": [
    "ax=sns.lineplot(x='alcohol', y='sulphates', data=df_r)\n",
    "\n",
    "sns.regplot(x='alcohol', y='sulphates', data=df_r, scatter_kws={\"color\": \"black\"}, scatter=False)\n"
   ]
  },
  {
   "cell_type": "code",
   "execution_count": null,
   "metadata": {},
   "outputs": [],
   "source": [
    "sns.histplot(x='citric acid', hue='quality', data=df_r, multiple=\"stack\")"
   ]
  },
  {
   "cell_type": "code",
   "execution_count": null,
   "metadata": {},
   "outputs": [],
   "source": [
    "sns.histplot(x='citric acid', hue='quality_lable', data=df_r, multiple=\"dodge\")"
   ]
  },
  {
   "cell_type": "code",
   "execution_count": null,
   "metadata": {},
   "outputs": [],
   "source": [
    "from scipy import stats\n",
    "\n",
    "F, p = stats.f_oneway(df_r[df_r['quality_lable'] == 'low']['alcohol'],\n",
    "df_r[df_r['quality_lable'] == 'medium']['alcohol'],\n",
    "df_r[df_r['quality_lable'] == 'high']['alcohol'])\n",
    "print('ANOVA test for mean alcohol levels across wine samples with different quality ratings')\n",
    "print('F Statistic:', F, '\\tp-value:', p)"
   ]
  },
  {
   "cell_type": "code",
   "execution_count": null,
   "metadata": {},
   "outputs": [],
   "source": [
    "\n",
    "h=sns.jointplot(x='quality', y='sulphates', data=red_wine, color='red',marginal_ticks=True)\n",
    "h.set_axis_labels('quality', 'sulphate (g/dm3)', fontsize=16)\n",
    "h.fig.suptitle('red wine sulphates-quality')\n",
    "h.fig.tight_layout(pad=2)\n",
    "\n",
    "h.ax_joint.collections[0].set_alpha(0)\n",
    "h.plot_joint(plt.scatter, c='grey', s=30, linewidth=1, marker='+')\n",
    "\n"
   ]
  },
  {
   "cell_type": "code",
   "execution_count": null,
   "metadata": {},
   "outputs": [],
   "source": []
  },
  {
   "cell_type": "code",
   "execution_count": null,
   "metadata": {},
   "outputs": [],
   "source": [
    "white_wine.hist()"
   ]
  },
  {
   "cell_type": "code",
   "execution_count": null,
   "metadata": {},
   "outputs": [],
   "source": [
    "df_w.hist()"
   ]
  },
  {
   "cell_type": "code",
   "execution_count": null,
   "metadata": {},
   "outputs": [],
   "source": [
    "sns.scatterplot(x='residual sugar', y='pH', data=df_r,  hue='quality', palette=['green','orange','brown','dodgerblue','red', 'blue'])\n",
    "plt.xlabel('residual sugar of red wine')\n",
    "plt.ylim(2.8,4)\n",
    "plt.ylabel('pH')\n",
    "plt.legend(loc=\"upper left\", ncol=6, title='quality ratings')\n"
   ]
  },
  {
   "cell_type": "code",
   "execution_count": null,
   "metadata": {},
   "outputs": [],
   "source": [
    "sns.scatterplot(x='density', y='chlorides', data=df_r, hue='quality_lable')\n"
   ]
  },
  {
   "cell_type": "code",
   "execution_count": null,
   "metadata": {},
   "outputs": [],
   "source": [
    "df_r.shape[1]"
   ]
  },
  {
   "cell_type": "code",
   "execution_count": null,
   "metadata": {},
   "outputs": [],
   "source": [
    "df_r.sulphates"
   ]
  },
  {
   "cell_type": "code",
   "execution_count": null,
   "metadata": {},
   "outputs": [],
   "source": [
    "df_r[['quality','density','pH']]"
   ]
  },
  {
   "cell_type": "code",
   "execution_count": null,
   "metadata": {},
   "outputs": [],
   "source": [
    "df_w.skew()"
   ]
  },
  {
   "cell_type": "code",
   "execution_count": null,
   "metadata": {},
   "outputs": [],
   "source": [
    "for i in df_w.columns:\n",
    "    sns.histplot(df_w[i])\n",
    "    plt.show()"
   ]
  },
  {
   "cell_type": "code",
   "execution_count": null,
   "metadata": {},
   "outputs": [],
   "source": [
    "df_w.shape"
   ]
  },
  {
   "cell_type": "code",
   "execution_count": null,
   "metadata": {},
   "outputs": [],
   "source": [
    "white_wine.shape"
   ]
  },
  {
   "cell_type": "code",
   "execution_count": null,
   "metadata": {},
   "outputs": [],
   "source": [
    "# data reduction percentage for white wine\n",
    "(white_wine.shape[0]-df_w.shape[0])*100/white_wine.shape[0]"
   ]
  },
  {
   "cell_type": "code",
   "execution_count": null,
   "metadata": {},
   "outputs": [],
   "source": [
    "(red_wine.shape[0]-df_r.shape[0])*100/red_wine.shape[0]"
   ]
  },
  {
   "cell_type": "code",
   "execution_count": null,
   "metadata": {},
   "outputs": [],
   "source": []
  }
 ],
 "metadata": {
  "kernelspec": {
   "display_name": "Python 3.9.13",
   "language": "python",
   "name": "python3"
  },
  "language_info": {
   "codemirror_mode": {
    "name": "ipython",
    "version": 3
   },
   "file_extension": ".py",
   "mimetype": "text/x-python",
   "name": "python",
   "nbconvert_exporter": "python",
   "pygments_lexer": "ipython3",
   "version": "3.9.13"
  },
  "orig_nbformat": 4,
  "vscode": {
   "interpreter": {
    "hash": "2918784d2acf282f2c1eeb3293c1f68c9e526abdf8983671e7e8ea84935e28a6"
   }
  }
 },
 "nbformat": 4,
 "nbformat_minor": 2
}
